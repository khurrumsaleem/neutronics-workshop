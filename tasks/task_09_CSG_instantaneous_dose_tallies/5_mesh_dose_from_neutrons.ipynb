{
 "cells": [
  {
   "cell_type": "markdown",
   "id": "4e5de8f9",
   "metadata": {},
   "source": [
    "# Dose map from neutron pulse\n",
    "\n",
    "This task simulates dose from a pulse of neutrons on a regular mesh.\n",
    "\n",
    "The regular mesh values are then used to create a dose map showing dose limits"
   ]
  },
  {
   "cell_type": "code",
   "execution_count": null,
   "id": "2bde8a2d",
   "metadata": {},
   "outputs": [],
   "source": [
    "import matplotlib.pyplot as plt\n",
    "from matplotlib.colors import LogNorm\n",
    "import numpy as np\n",
    "import openmc\n",
    "from pathlib import Path\n",
    "# Setting the cross section path to the correct location in the docker image.\n",
    "# If you are running this outside the docker image you will have to change this path to your local cross section path.\n",
    "openmc.config['cross_sections'] = Path.home() / 'nuclear_data' / 'cross_sections.xml'"
   ]
  },
  {
   "cell_type": "markdown",
   "id": "f41811a3",
   "metadata": {},
   "source": [
    "We define the materials used in the simulation, just simple air and concrete."
   ]
  },
  {
   "cell_type": "code",
   "execution_count": null,
   "id": "f56ee705",
   "metadata": {},
   "outputs": [],
   "source": [
    "mat_air = openmc.Material(name=\"air\")\n",
    "mat_air.add_element(\"N\", 0.784431)\n",
    "mat_air.add_element(\"O\", 0.210748)\n",
    "mat_air.add_element(\"Ar\", 0.0046)\n",
    "mat_air.set_density(\"g/cc\", 0.001205)\n",
    "\n",
    "mat_concrete = openmc.Material(name='concrete')\n",
    "mat_concrete.add_element(\"H\",0.168759)\n",
    "mat_concrete.add_element(\"C\",0.001416)\n",
    "mat_concrete.add_element(\"O\",0.562524)\n",
    "mat_concrete.add_element(\"Na\",0.011838)\n",
    "mat_concrete.add_element(\"Mg\",0.0014)\n",
    "mat_concrete.add_element(\"Al\",0.021354)\n",
    "mat_concrete.add_element(\"Si\",0.204115)\n",
    "mat_concrete.add_element(\"K\",0.005656)\n",
    "mat_concrete.add_element(\"Ca\",0.018674)\n",
    "mat_concrete.add_element(\"Fe\",0.00426)\n",
    "mat_concrete.set_density(\"g/cm3\", 2.3)\n",
    "\n",
    "my_materials = openmc.Materials([mat_air, mat_concrete])"
   ]
  },
  {
   "cell_type": "markdown",
   "id": "11826965",
   "metadata": {},
   "source": [
    "Next we define some parameters that will be used for the bio shield construction"
   ]
  },
  {
   "cell_type": "code",
   "execution_count": null,
   "id": "0837b11f",
   "metadata": {},
   "outputs": [],
   "source": [
    "floor_thickness = 200\n",
    "wall_thickness = 200\n",
    "ceiling_thickness = 150\n",
    "inner_cell_y_width = 2000\n",
    "inner_cell_x_width = 2000\n",
    "inner_cell_height = 1000\n",
    "door_to_wall_gap = 16\n",
    "door_thickness = 200\n",
    "door_way_left_offset = 100\n",
    "door_way_length = 400\n",
    "door_overlap = 100\n",
    "door_left_offset = door_way_left_offset - door_overlap\n",
    "door_length = door_way_length + door_overlap * 2\n",
    "padding = 100"
   ]
  },
  {
   "cell_type": "markdown",
   "id": "91ebc697",
   "metadata": {},
   "source": [
    "Then we define the geometry, which is just a shielded room with a sliding overlapping door. The geometry is a bit excessive for this example so don't focus on the details of this geometry, I just wanted to add something representative."
   ]
  },
  {
   "cell_type": "code",
   "execution_count": null,
   "id": "17a06011",
   "metadata": {},
   "outputs": [],
   "source": [
    "lower_floor = openmc.ZPlane(z0=0)\n",
    "upper_floor = openmc.ZPlane(z0=floor_thickness)\n",
    "lower_ceiling = openmc.ZPlane(z0=upper_floor.z0+inner_cell_height)\n",
    "upper_ceiling = openmc.ZPlane(z0=lower_ceiling.z0+ceiling_thickness)\n",
    "\n",
    "left_wall_inner_wall = openmc.XPlane(x0=-(inner_cell_x_width/2))\n",
    "right_wall_inner_wall = openmc.XPlane(x0=inner_cell_x_width/2)\n",
    "left_wall_outer_wall = openmc.XPlane(x0=left_wall_inner_wall.x0-wall_thickness)\n",
    "right_wall_outer_wall = openmc.XPlane(x0=right_wall_inner_wall.x0+wall_thickness)\n",
    "\n",
    "lower_wall_inner_wall = openmc.YPlane(y0=-(inner_cell_y_width/2))\n",
    "lower_wall_outer_wall = openmc.YPlane(y0=lower_wall_inner_wall.y0 - wall_thickness)\n",
    "top_wall_inner_wall = openmc.YPlane(y0=inner_cell_y_width/2)\n",
    "top_wall_outer_wall = openmc.YPlane(y0=top_wall_inner_wall.y0+wall_thickness)\n",
    "\n",
    "door_inner_wall = openmc.YPlane(y0=top_wall_outer_wall.y0+door_to_wall_gap)\n",
    "door_outer_wall = openmc.YPlane(y0=door_inner_wall.y0+door_thickness)\n",
    "\n",
    "door_left = openmc.XPlane(x0=left_wall_inner_wall.x0+door_left_offset)\n",
    "door_right = openmc.XPlane(x0=door_length)\n",
    "doorway_left = openmc.XPlane(x0=left_wall_inner_wall.x0+door_way_left_offset)\n",
    "doorway_right = openmc.XPlane(x0=door_way_length)\n",
    "\n",
    "door_region = -door_outer_wall & +door_inner_wall & +door_left &-door_right & +upper_floor &-upper_ceiling\n",
    "left_of_door_region = +left_wall_outer_wall & -door_outer_wall & +door_inner_wall & -door_left & +upper_floor &-upper_ceiling\n",
    "right_of_door_region = -right_wall_outer_wall & -door_outer_wall & +door_inner_wall & +door_right & +upper_floor &-upper_ceiling\n",
    "\n",
    "left_wall_region = +left_wall_outer_wall & -left_wall_inner_wall & -top_wall_inner_wall & +lower_wall_inner_wall & -lower_ceiling & +upper_floor\n",
    "right_wall_region = -right_wall_outer_wall & +right_wall_inner_wall & -top_wall_inner_wall & +lower_wall_inner_wall & -lower_ceiling & +upper_floor\n",
    "\n",
    "top_left_wall_region = -top_wall_outer_wall & +top_wall_inner_wall & +left_wall_outer_wall & -doorway_left & -lower_ceiling & +upper_floor\n",
    "top_right_wall_region = -top_wall_outer_wall & +top_wall_inner_wall & +doorway_right & -right_wall_outer_wall & -lower_ceiling & +upper_floor\n",
    "\n",
    "door_way_region = -top_wall_outer_wall & +top_wall_inner_wall & -doorway_right  & +doorway_left & -lower_ceiling & +upper_floor\n",
    "lower_wall_region = +lower_wall_outer_wall & -lower_wall_inner_wall & +left_wall_outer_wall & -right_wall_outer_wall & -lower_ceiling & +upper_floor\n",
    "\n",
    "inner_region = +left_wall_inner_wall & -right_wall_inner_wall & -top_wall_inner_wall & +lower_wall_inner_wall & -lower_ceiling & +upper_floor\n",
    "\n",
    "floor_region = -upper_floor & +lower_floor & +left_wall_outer_wall & -right_wall_outer_wall & -top_wall_outer_wall & +lower_wall_outer_wall\n",
    "floor_region_below_door_gap = -upper_floor & +lower_floor & -door_outer_wall & +top_wall_outer_wall & +left_wall_outer_wall & -right_wall_outer_wall\n",
    "\n",
    "air_region_in_door_gap = -upper_ceiling & +upper_floor & -door_inner_wall & +top_wall_outer_wall & +left_wall_outer_wall & -right_wall_outer_wall\n",
    "ceiling_region = -upper_ceiling & +lower_ceiling & +left_wall_outer_wall & -right_wall_outer_wall & -top_wall_outer_wall & +lower_wall_outer_wall\n",
    "\n",
    "outer_box = openmc.model.RectangularParallelepiped(\n",
    "    xmin=left_wall_outer_wall.x0-padding,\n",
    "    xmax=right_wall_outer_wall.x0+padding,\n",
    "    ymin=lower_wall_outer_wall.y0-padding,\n",
    "    ymax=door_outer_wall.y0+padding,\n",
    "    zmin=lower_floor.z0-padding,\n",
    "    zmax=upper_ceiling.z0+padding,\n",
    "    boundary_type='vacuum'\n",
    ")\n",
    "outer_box_inner_surface = openmc.model.RectangularParallelepiped(\n",
    "    xmin=left_wall_outer_wall.x0,\n",
    "    xmax=right_wall_outer_wall.x0,\n",
    "    ymin=lower_wall_outer_wall.y0,\n",
    "    ymax=door_outer_wall.y0,\n",
    "    zmin=lower_floor.z0,\n",
    "    zmax=upper_ceiling.z0\n",
    ")\n",
    "\n",
    "padding_cell = openmc.Cell(name='padding_cell', region=-outer_box & +outer_box_inner_surface, fill=mat_air)\n",
    "\n",
    "wall_cell = openmc.Cell(name='wall_cell', region =  lower_wall_region | right_wall_region | top_left_wall_region | top_right_wall_region | left_wall_region, fill = mat_concrete)\n",
    "floor_cell = openmc.Cell(name='floor', region =  floor_region, fill = mat_concrete)\n",
    "floor_cell_2 = openmc.Cell(name='floor', region =  floor_region_below_door_gap, fill = mat_concrete)\n",
    "ceiling_cell = openmc.Cell(name='ceiling', region =  ceiling_region, fill = mat_concrete)\n",
    "inner_cell = openmc.Cell(name='inner_cell', region=inner_region, fill = mat_air)\n",
    "inner_cell_top = openmc.Cell(name='inner_cell_top', region=door_way_region, fill = mat_air)\n",
    "air_region_in_door_gap_cell = openmc.Cell(name='air_region_in_door_gap', region=air_region_in_door_gap, fill = mat_air)\n",
    "air_region_left_of_door_cell = openmc.Cell(name='left_of_door_region', region=left_of_door_region, fill = mat_air)\n",
    "air_region_right_of_door_cell = openmc.Cell(name='right_of_door_region', region=right_of_door_region, fill = mat_air)\n",
    "door_cell = openmc.Cell(name=\"door\", fill=mat_concrete, region=door_region)\n",
    "\n",
    "my_geometry = openmc.Geometry([wall_cell, padding_cell, inner_cell, floor_cell, floor_cell_2, ceiling_cell, inner_cell_top, door_cell, air_region_in_door_gap_cell, air_region_left_of_door_cell, air_region_right_of_door_cell, ]) \n",
    "\n",
    "my_geometry.plot(\n",
    "    basis='xy',\n",
    "    origin=my_geometry.bounding_box.center,\n",
    "    width=(my_geometry.bounding_box.width[0]+100, my_geometry.bounding_box.width[1]+100),\n",
    "    outline=True,\n",
    "    legend=True,\n",
    "    color_by='material',\n",
    "    colors={\n",
    "        mat_air: 'blue',\n",
    "        mat_concrete: 'gray',\n",
    "    },\n",
    "    pixels=1_000_00\n",
    ")\n",
    "plt.show()\n"
   ]
  },
  {
   "cell_type": "markdown",
   "id": "e1fb605d",
   "metadata": {},
   "source": [
    "Now we define the neutron source term, I've opted for a ring source instead of a point source as this will provide different incident angles on the gaps between the door and the wall of the room."
   ]
  },
  {
   "cell_type": "code",
   "execution_count": null,
   "id": "63f521c2",
   "metadata": {},
   "outputs": [],
   "source": [
    "source = openmc.IndependentSource()\n",
    "\n",
    "radius = openmc.stats.Discrete([500], [1])\n",
    "\n",
    "# the distribution of source z values is just a single value\n",
    "height_of_source = 300\n",
    "z_values = openmc.stats.Discrete([height_of_source], [1])\n",
    "\n",
    "# the distribution of source azimuthal angles values is a uniform distribution between 0 and 2 Pi\n",
    "angle = openmc.stats.Uniform(a=0., b=2* 3.14159265359)\n",
    "\n",
    "# this makes the ring source using the three distributions and a radius\n",
    "source.space = openmc.stats.CylindricalIndependent(r=radius, phi=angle, z=z_values, origin=(0.0, 0.0, 0.0))\n",
    "\n",
    "# sets the direction to isotropic\n",
    "source.angle = openmc.stats.Isotropic()\n",
    "\n",
    "# sets the energy distribution to a Muir distribution neutrons\n",
    "source.energy = openmc.stats.muir(e0=14080000.0, m_rat=5.0, kt=20000.0)\n"
   ]
  },
  {
   "cell_type": "markdown",
   "id": "bc163497",
   "metadata": {},
   "source": [
    "Instantiate a Settings object"
   ]
  },
  {
   "cell_type": "code",
   "execution_count": null,
   "id": "352fdb9b",
   "metadata": {},
   "outputs": [],
   "source": [
    "my_settings = openmc.Settings(\n",
    "    batches = 10,\n",
    "    particles = 50000,\n",
    "    run_mode = \"fixed source\",\n",
    "    source = source,\n",
    ")\n",
    "\n",
    "# when running a mesh tally simulation you might want to tell openmc not to save\n",
    "# the tallies.out file which is a ASCII file containing the tally results.\n",
    "# for mesh tallies this can get very large and take a long time to write.\n",
    "# the statepoint.h5 is smaller and quicker as it is a binary file\n",
    "my_settings.output = {\"tallies\": False}"
   ]
  },
  {
   "cell_type": "markdown",
   "id": "f01848ab",
   "metadata": {},
   "source": [
    "Add the neutron dose tally on the regular mesh"
   ]
  },
  {
   "cell_type": "code",
   "execution_count": null,
   "id": "b72328e0",
   "metadata": {},
   "outputs": [],
   "source": [
    "\n",
    "# these are the dose coefficients coded into openmc\n",
    "# originally from ICRP https://journals.sagepub.com/doi/10.1016/j.icrp.2011.10.001\n",
    "energy_bins_n, dose_coeffs_n = openmc.data.dose_coefficients(\n",
    "    particle=\"neutron\",\n",
    "    geometry=\"ISO\",  # we are using the ISO direction as this is a dose field with dose\n",
    ")\n",
    "energy_function_filter_n = openmc.EnergyFunctionFilter(\n",
    "    energy=energy_bins_n,\n",
    "    y=dose_coeffs_n,\n",
    "    interpolation=\"cubic\" ) # cubic interpolation is recommended by ICRP\n",
    "\n",
    "# just getting the dose for neutrons, not photons or other particles\n",
    "neutron_particle_filter = openmc.ParticleFilter(\"neutron\")\n",
    "\n",
    "mesh = openmc.RegularMesh().from_domain(my_geometry, dimension=300000)\n",
    "mesh_filter = openmc.MeshFilter(mesh)\n",
    "\n",
    "# Create tally to score dose\n",
    "dose_cell_tally = openmc.Tally(name=\"neutron_dose_on_mesh\")\n",
    "# note that the EnergyFunctionFilter is included as a filter\n",
    "dose_cell_tally.filters = [\n",
    "    mesh_filter,\n",
    "    neutron_particle_filter,\n",
    "    energy_function_filter_n,\n",
    "]\n",
    "dose_cell_tally.scores = [\"flux\"]\n",
    "my_tallies = openmc.Tallies([dose_cell_tally])"
   ]
  },
  {
   "cell_type": "markdown",
   "id": "825d3a57",
   "metadata": {},
   "source": [
    "Now we combine geometry, settings (including the source), materials and tallies into a model\n",
    "\n",
    "We plot the model with the source just to check the source is where we expected"
   ]
  },
  {
   "cell_type": "code",
   "execution_count": null,
   "id": "29daf79e",
   "metadata": {},
   "outputs": [],
   "source": [
    "model = openmc.Model(my_geometry, my_materials, my_settings, my_tallies)\n",
    "\n",
    "# this puts the plot slice at the center of the geometry at the height of the source\n",
    "origin = (model.bounding_box.center[0], model.bounding_box.center[0], height_of_source)\n",
    "\n",
    "# plots 100 source samples on the figure\n",
    "model.plot(n_samples=100, origin=origin, source_kwargs={\"color\":\"red\"})\n"
   ]
  },
  {
   "cell_type": "markdown",
   "id": "4e3d4114",
   "metadata": {},
   "source": [
    "Now we run the simulation"
   ]
  },
  {
   "cell_type": "code",
   "execution_count": null,
   "id": "791ed622",
   "metadata": {},
   "outputs": [],
   "source": [
    "statepoint_filename = model.run()"
   ]
  },
  {
   "cell_type": "markdown",
   "id": "a84535fe",
   "metadata": {},
   "source": [
    "This code gets the tally from the statepoint file\n",
    "\n",
    "- Reshapes it so it has the same shape as the mesh (100,100,30)\n",
    "\n",
    "- Takes a slice through all XY values at the middle Z value"
   ]
  },
  {
   "cell_type": "code",
   "execution_count": null,
   "id": "fe80b10c",
   "metadata": {},
   "outputs": [],
   "source": [
    "# makes use of a context manager \"with\" to automatically close the statepoint file\n",
    "with openmc.StatePoint(statepoint_filename) as statepoint:\n",
    "    my_mesh_tally_result = statepoint.get_tally(name=\"neutron_dose_on_mesh\")\n",
    "\n",
    "# this part of the script plots the images\n",
    "tally_slice = my_mesh_tally_result.get_slice(scores=['flux'])\n",
    "\n",
    "tally_data = tally_slice.get_reshaped_data(\n",
    "    expand_dims=True, value='mean'\n",
    ").squeeze()\n",
    "\n",
    "# gets a 2d slice of data to later plot\n",
    "data_slice = tally_data[:,:,15]"
   ]
  },
  {
   "cell_type": "markdown",
   "id": "40f16f69",
   "metadata": {},
   "source": [
    "Scales and normalizes the raw tally data into the desired units"
   ]
  },
  {
   "cell_type": "code",
   "execution_count": null,
   "id": "01aab88e",
   "metadata": {},
   "outputs": [],
   "source": [
    "# tally.mean is in units of pSv-cm3/source neutron\n",
    "# multiplication by neutrons_per_pulse changes units to neutron to pSv-cm3/pulse\n",
    "neutrons_per_pulse = 1e8  # units of neutrons per pulse\n",
    "\n",
    "# multiplication by pico_to_milli converts from (pico) pSv-cm3/pulse to (milli) mSv-cm3/pulse\n",
    "pico_to_milli = 1e-9\n",
    "\n",
    "# dividing by the mesh volume gives the units of mSv/pulse\n",
    "mesh_voxel_volume = mesh.volumes[0][0][0]\n",
    "\n",
    "# converts the units\n",
    "data_slice = (data_slice * neutrons_per_pulse * pico_to_milli) / mesh_voxel_volume"
   ]
  },
  {
   "cell_type": "markdown",
   "id": "78b4828e",
   "metadata": {},
   "source": [
    "Plots the scaled and normalized mesh tally results with the geometry outline"
   ]
  },
  {
   "cell_type": "code",
   "execution_count": null,
   "id": "4f32b530",
   "metadata": {},
   "outputs": [],
   "source": [
    "meter_scaled_extent = [i/100 for i in my_geometry.bounding_box.extent['xy']]\n",
    "\n",
    "# First plot (ax1)\n",
    "fig, ax1 = plt.subplots(figsize=(10, 8))\n",
    "plot_1 = ax1.imshow(\n",
    "    np.rot90(data_slice, -3),\n",
    "    extent=meter_scaled_extent,\n",
    "    interpolation=None,\n",
    "    norm=LogNorm(\n",
    "        vmin=np.min(data_slice[data_slice > 0]),  # Smallest non-zero value\n",
    "        vmax=np.max(data_slice),\n",
    "    ),\n",
    ")\n",
    "ax1.set_xlabel(\"X (cm)\")\n",
    "ax1.set_ylabel(\"Y (cm)\")\n",
    "cbar = plt.colorbar(plot_1, ax=ax1)\n",
    "cbar.set_label(\"Dose [milli Sv per pulse]\")  # Label for the color bar\n",
    "\n",
    "\n",
    "X = np.linspace(meter_scaled_extent[0], meter_scaled_extent[1], data_slice.shape[1])\n",
    "Y = np.linspace(meter_scaled_extent[2], meter_scaled_extent[3], data_slice.shape[0])\n",
    "X, Y = np.meshgrid(X, Y)\n",
    "contour = ax1.contour(\n",
    "    X, Y, data_slice.T,\n",
    "    levels=[0.1],\n",
    "    colors='red',\n",
    "    linewidths=1.5,\n",
    ")\n",
    "ax1.clabel(contour, inline=True, fontsize=10, colors='red') # could format line with fmt=\"%.1e\"\n",
    "\n",
    "# Second plot (ax2) overlaid on ax1\n",
    "ax2 = my_geometry.plot(\n",
    "    outline='only',\n",
    "    extent=my_geometry.bounding_box.extent['xy'],\n",
    "    axes=ax1,  # Use the same axis as ax1\n",
    "    color_by='material',\n",
    "    colors={\n",
    "        mat_air: 'blue',\n",
    "        mat_concrete: 'gray',\n",
    "    },\n",
    "    axis_units='m',\n",
    "    pixels=10_000_00,  #avoids rounded corners on outline\n",
    ")\n",
    "ax2.set_title(\"Dose map with geometry and contour line\")\n",
    "ax2.set_xlim(ax1.get_xlim())\n",
    "ax2.set_ylim(ax1.get_ylim())\n",
    "ax2.set_aspect(ax1.get_aspect())  # Match aspect ratio\n",
    "\n",
    "# Show the combined plot\n",
    "plt.show()"
   ]
  },
  {
   "cell_type": "markdown",
   "id": "da54cdb1",
   "metadata": {},
   "source": [
    "Summary\n",
    "\n",
    "The example showed neutron dose maps can be made for a bio shield model.\n",
    "\n",
    "Further reading\n",
    "\n",
    "To get a facility wide dose map you should consider\n",
    "- Adding variance reduction so the dose outside the bio shield can be found\n",
    "- Combine neutron dose with photon dose to get total dose\n",
    "- This example is instantaneous dose, but one also needs to simulate shutdown dose\n"
   ]
  }
 ],
 "metadata": {
  "kernelspec": {
   "display_name": ".neutronicsworkshop2",
   "language": "python",
   "name": "python3"
  },
  "language_info": {
   "codemirror_mode": {
    "name": "ipython",
    "version": 3
   },
   "file_extension": ".py",
   "mimetype": "text/x-python",
   "name": "python",
   "nbconvert_exporter": "python",
   "pygments_lexer": "ipython3",
   "version": "3.11.0rc1"
  }
 },
 "nbformat": 4,
 "nbformat_minor": 5
}
