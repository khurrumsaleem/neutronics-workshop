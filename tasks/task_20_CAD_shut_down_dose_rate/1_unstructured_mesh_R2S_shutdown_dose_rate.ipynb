{
 "cells": [
  {
   "cell_type": "markdown",
   "id": "503ef128",
   "metadata": {},
   "source": [
    "# Unstructured mesh R2S shutdown dose rate\n",
    "\n",
    "In this example we perform a shutdown dose rate simulation using the R2S method on an unstructured mesh.\n",
    "\n",
    "This is a very minimal example that only has a single cell and single material\n",
    "\n",
    "First we import all the packages we will need for the simulations"
   ]
  },
  {
   "cell_type": "code",
   "execution_count": null,
   "id": "83e65ae5",
   "metadata": {},
   "outputs": [],
   "source": [
    "from cad_to_dagmc import CadToDagmc\n",
    "import cadquery as cq\n",
    "import openmc\n",
    "from matplotlib.colors import LogNorm\n",
    "import openmc.deplete\n",
    "from pathlib import Path"
   ]
  },
  {
   "cell_type": "markdown",
   "id": "6aed89eb",
   "metadata": {},
   "source": [
    "Then we sets the cross section path to the correct location in the docker image.\n",
    "If you are running this outside the docker image you will have to change this path to your local cross section path."
   ]
  },
  {
   "cell_type": "code",
   "execution_count": null,
   "id": "9b518ee5",
   "metadata": {},
   "outputs": [],
   "source": [
    "openmc.config['chain_file'] = Path.home() / 'nuclear_data' / 'chain-endf-b8.0.xml'\n",
    "openmc.config['cross_sections'] = Path.home() / 'nuclear_data' / 'cross_sections.xml'"
   ]
  },
  {
   "cell_type": "markdown",
   "id": "9f5c512b",
   "metadata": {},
   "source": [
    "makes a CAD geometry to use for the neutronics geometry"
   ]
  },
  {
   "cell_type": "code",
   "execution_count": null,
   "id": "535f6dd2",
   "metadata": {},
   "outputs": [],
   "source": [
    "s = cq.Workplane(\"XY\")\n",
    "sPnts = [\n",
    "    (2.75, 1.5),\n",
    "    (2.5, 1.75),\n",
    "    (2.0, 1.5),\n",
    "    (1.5, 1.0),\n",
    "    (1.0, 1.25),\n",
    "    (0.5, 1.0),\n",
    "    (0, 1.0),\n",
    "]\n",
    "r = s.lineTo(3.0, 0).lineTo(3.0, 1.0).spline(sPnts, includeCurrent=True).close()\n",
    "result = r.extrude(0.5)\n"
   ]
  },
  {
   "cell_type": "markdown",
   "id": "9f9287ed",
   "metadata": {},
   "source": [
    "Convert the CAD geometry to a DAGMC surface mesh and MOAB volume mesh"
   ]
  },
  {
   "cell_type": "code",
   "execution_count": null,
   "id": "a01630c2",
   "metadata": {},
   "outputs": [],
   "source": [
    "\n",
    "my_model = CadToDagmc()\n",
    "\n",
    "my_model.add_cadquery_object(result, material_tags=['mat1'])\n",
    "\n",
    "\n",
    "# this makes the tet mesh used for the unstructured mesh tally which is overlaid on the geometry\n",
    "# this also makes the surface mesh used for the material volume\n",
    "# the outer surface for both mesh have the same mesh nodes, they are conformal\n",
    "dagmc_filename, umesh_filename = my_model.export_dagmc_h5m_file(\n",
    "    filename=\"dagmc.h5m\",\n",
    "    max_mesh_size=0.8,\n",
    "    min_mesh_size=0.1,\n",
    "    unstructured_volumes=[1],\n",
    "    umesh_filename=\"umesh.vtk\",\n",
    ")\n"
   ]
  },
  {
   "cell_type": "markdown",
   "id": "1dd5df51",
   "metadata": {},
   "source": [
    "Now use the two meshes in OpenMC to make the DAGMCUniverse and the UnstructuredMesh\n",
    "\n",
    "We transport particles on the DAGMCUniverse\n",
    "\n",
    "We will get the flux on the UnstructuredMesh tets and then activate the materials on each tet and use this information to make source terms"
   ]
  },
  {
   "cell_type": "code",
   "execution_count": null,
   "id": "133f360e",
   "metadata": {},
   "outputs": [],
   "source": [
    "# add adding distance to avoid source being born on edge of geometry and the 2nd simulation crashing\n",
    "universe = openmc.DAGMCUniverse(\"dagmc.h5m\").bounded_universe(padding_distance=1)\n",
    "my_geometry = openmc.Geometry(universe)\n",
    "\n",
    "# the unstructured mesh to overlay on the DAGMC geometry\n",
    "umesh = openmc.UnstructuredMesh(\"umesh.vtk\", library=\"moab\")"
   ]
  },
  {
   "cell_type": "markdown",
   "id": "97bf682a",
   "metadata": {},
   "source": [
    "Make the material used for the simulation"
   ]
  },
  {
   "cell_type": "code",
   "execution_count": null,
   "id": "e4f284bd",
   "metadata": {},
   "outputs": [],
   "source": [
    "my_material = openmc.Material(name='mat1', material_id=1)\n",
    "my_material.add_nuclide(\"Fe56\", 1, percent_type=\"ao\")\n",
    "my_material.set_density(\"g/cm3\", 0.001)\n",
    "my_material.depletable = True\n",
    "my_materials = openmc.Materials([my_material])"
   ]
  },
  {
   "cell_type": "markdown",
   "id": "c485f3a3",
   "metadata": {},
   "source": [
    "Make a simple neutron source in the center of the geometry"
   ]
  },
  {
   "cell_type": "code",
   "execution_count": null,
   "id": "48e3019f",
   "metadata": {},
   "outputs": [],
   "source": [
    "# Create a DT point source\n",
    "my_source = openmc.IndependentSource()\n",
    "my_source.space = openmc.stats.Point(my_geometry.bounding_box.center)\n",
    "my_source.angle = openmc.stats.Isotropic()\n",
    "my_source.energy = openmc.stats.Discrete([14e6], [1])\n"
   ]
  },
  {
   "cell_type": "markdown",
   "id": "a53f0f34",
   "metadata": {},
   "source": [
    "Make the simulation settings for the neutron irradiation"
   ]
  },
  {
   "cell_type": "code",
   "execution_count": null,
   "id": "dcf2675b",
   "metadata": {},
   "outputs": [],
   "source": [
    "my_settings = openmc.Settings()\n",
    "my_settings.batches = 5\n",
    "my_settings.particles = 5000\n",
    "my_settings.run_mode = \"fixed source\"\n",
    "my_settings.output = {'summary': False}\n",
    "my_settings.source = my_source"
   ]
  },
  {
   "cell_type": "markdown",
   "id": "7c820f8a",
   "metadata": {},
   "source": [
    "Make the neutron irradiation model"
   ]
  },
  {
   "cell_type": "code",
   "execution_count": null,
   "id": "efc33788",
   "metadata": {},
   "outputs": [],
   "source": [
    "\n",
    "model = openmc.model.Model(my_geometry, my_materials, my_settings)\n"
   ]
  },
  {
   "cell_type": "markdown",
   "id": "731d930b",
   "metadata": {},
   "source": [
    "Get the flux and micro_xs in each unstructured mesh tet"
   ]
  },
  {
   "cell_type": "code",
   "execution_count": null,
   "id": "d119240c",
   "metadata": {},
   "outputs": [],
   "source": [
    "flux_in_each_voxel, micro_xs = openmc.deplete.get_microxs_and_flux(\n",
    "    model=model,\n",
    "    domains=umesh,\n",
    "    energies=[0, 30e6], # one energy bin from 0 to 30MeV\n",
    "    chain_file=openmc.config['chain_file'],\n",
    "    # needed otherwise the statepoint file is produced in an unknown temporary directory\n",
    "    run_kwargs={'cwd':'.'},\n",
    "    nuclides=my_material.get_nuclides()\n",
    ")\n"
   ]
  },
  {
   "cell_type": "markdown",
   "id": "2f60c828",
   "metadata": {},
   "source": [
    "Read in the unstructured from the statepoint, this contains additional information (centroids and volumes) compared to the umesh object"
   ]
  },
  {
   "cell_type": "code",
   "execution_count": null,
   "id": "84ee00fb",
   "metadata": {},
   "outputs": [],
   "source": [
    "sp_filename=f'statepoint.{my_settings.batches}.h5'\n",
    "sp = openmc.StatePoint(sp_filename)\n",
    "\n",
    "# normally with regular meshes I would get the mesh from the tally\n",
    "# but with unstructured meshes the tally does not contain the mesh\n",
    "# however we can get it from the statepoint file\n",
    "umesh_from_sp = sp.meshes[umesh.id]\n",
    "# reading a unstructured mesh from the statepoint trigger internal code in the mesh\n",
    "#  object so that its centroids and volumes become known.\n",
    "# centroids and volumes are needed for the get_values and write_data_to_vtk steps\n",
    "centroids = umesh_from_sp.centroids\n",
    "mesh_vols = umesh_from_sp.volumes\n"
   ]
  },
  {
   "cell_type": "markdown",
   "id": "231d81e5",
   "metadata": {},
   "source": [
    "make a new fresh material for every tet in the unstructured mesh"
   ]
  },
  {
   "cell_type": "code",
   "execution_count": null,
   "id": "8b4c47fb",
   "metadata": {},
   "outputs": [],
   "source": [
    "\n",
    "# empty list to be populated with a gamma source for each mesh voxel\n",
    "all_sources = []\n",
    "\n",
    "materials_for_every_mesh_voxel = []\n",
    "for i, vol in enumerate(mesh_vols, start=2):\n",
    "    # we make a new material with a new id for every mesh voxel\n",
    "    new_mat = my_material.clone()\n",
    "    new_mat.id = i\n",
    "    new_mat.volume = i\n",
    "    materials_for_every_mesh_voxel.append(new_mat)"
   ]
  },
  {
   "cell_type": "markdown",
   "id": "c158e360",
   "metadata": {},
   "source": [
    "Perform the activation / depletion / transmutation of all the materials"
   ]
  },
  {
   "cell_type": "code",
   "execution_count": null,
   "id": "3de1bbd8",
   "metadata": {},
   "outputs": [],
   "source": [
    "# constructing the operator, note we pass in the flux and micro xs\n",
    "operator = openmc.deplete.IndependentOperator(\n",
    "    materials=openmc.Materials(materials_for_every_mesh_voxel),\n",
    "    fluxes=[flux[0] for flux in flux_in_each_voxel],  # Flux in each group in [n-cm/src] for each domain\n",
    "    micros=micro_xs,\n",
    "    reduce_chain_level=5,\n",
    "    normalization_mode=\"source-rate\"\n",
    ")\n",
    "\n",
    "integrator = openmc.deplete.PredictorIntegrator(\n",
    "    operator=operator,\n",
    "    timesteps=[5, 60, 60],\n",
    "    source_rates=[1e20, 0 , 0], # a 5 second pulse of neutrons followed by 120 seconds of decay\n",
    "    timestep_units='s'\n",
    ")\n",
    "\n",
    "integrator.integrate()"
   ]
  },
  {
   "cell_type": "markdown",
   "id": "7e4f26ed",
   "metadata": {},
   "source": [
    "Get the last timestep in the depletion results\n",
    "\n",
    "Extract all the materials and get their gamma emission spectrum\n",
    "\n",
    "Turn these gamma spectra into source terms for later use"
   ]
  },
  {
   "cell_type": "code",
   "execution_count": null,
   "id": "1c1b18a6",
   "metadata": {},
   "outputs": [],
   "source": [
    "results = openmc.deplete.Results.from_hdf5(\"depletion_results.h5\")\n",
    "last_time_step=results[-1]\n",
    "\n",
    "for i, (flux, mesh_vol) in enumerate(zip(flux_in_each_voxel, mesh_vols), start=2):\n",
    "    activated_material = last_time_step.get_material(str(i))\n",
    "    activated_material.volume = mesh_vol\n",
    "    energy = activated_material.get_decay_photon_energy(\n",
    "        clip_tolerance = 1e-6,  # cuts out a small fraction of the very low energy (and hence negligible dose contribution) photons\n",
    "        units = 'Bq',\n",
    "    )\n",
    "\n",
    "    if energy:\n",
    "        strength = energy.integral()\n",
    "    # for the strength == None case\n",
    "    else:\n",
    "        strength = 0\n",
    "    my_source = openmc.IndependentSource(\n",
    "        # energy = energy,\n",
    "        energy=energy,\n",
    "        particle = \"photon\",\n",
    "        strength = strength,\n",
    "        # constraints={'domains':my_material}\n",
    "    )\n",
    "    all_sources.append(my_source)\n"
   ]
  },
  {
   "cell_type": "markdown",
   "id": "e7cd06c6",
   "metadata": {},
   "source": [
    "Make a mesh source out of the IndependentSource just made"
   ]
  },
  {
   "cell_type": "code",
   "execution_count": null,
   "id": "7f909dc5",
   "metadata": {},
   "outputs": [],
   "source": [
    "mesh_source = openmc.MeshSource(\n",
    "    mesh=umesh_from_sp,\n",
    "    sources=all_sources,\n",
    ")"
   ]
  },
  {
   "cell_type": "markdown",
   "id": "90ab1a19",
   "metadata": {},
   "source": [
    "Make simulation settings for the gamma transport simulation"
   ]
  },
  {
   "cell_type": "code",
   "execution_count": null,
   "id": "bfbbd32c",
   "metadata": {},
   "outputs": [],
   "source": [
    "my_gamma_settings = openmc.Settings()\n",
    "my_gamma_settings.run_mode = \"fixed source\"\n",
    "my_gamma_settings.batches = 100\n",
    "my_gamma_settings.particles = 10000\n",
    "my_gamma_settings.source = mesh_source\n",
    "my_gamma_settings.output = {'summary': False}\n",
    "my_gamma_settings.photon_transport = True"
   ]
  },
  {
   "cell_type": "markdown",
   "id": "64229602",
   "metadata": {},
   "source": [
    "Make a dose tally on a regular mesh for the photon / gamma dose"
   ]
  },
  {
   "cell_type": "code",
   "execution_count": null,
   "id": "82294b32",
   "metadata": {},
   "outputs": [],
   "source": [
    "energies, pSv_cm2 = openmc.data.dose_coefficients(particle=\"photon\", geometry=\"AP\")\n",
    "dose_filter = openmc.EnergyFunctionFilter(\n",
    "    energies, pSv_cm2, interpolation=\"cubic\"  # interpolation method recommended by ICRP\n",
    ")\n",
    "\n",
    "regularmesh = openmc.RegularMesh().from_domain(my_geometry, dimension=27000)\n",
    "\n",
    "particle_filter = openmc.ParticleFilter([\"photon\"])\n",
    "mesh_filter = openmc.MeshFilter(regularmesh)\n",
    "dose_tally = openmc.Tally()\n",
    "dose_tally.filters = [mesh_filter, dose_filter, particle_filter]\n",
    "dose_tally.scores = [\"flux\"]\n",
    "dose_tally.name = \"photon_dose_on_mesh\"\n",
    "tallies = openmc.Tallies([dose_tally])"
   ]
  },
  {
   "cell_type": "markdown",
   "id": "5d136b44",
   "metadata": {},
   "source": [
    "make the model for the gamma / photon transport and run the simulation"
   ]
  },
  {
   "cell_type": "code",
   "execution_count": null,
   "id": "b7c93361",
   "metadata": {},
   "outputs": [],
   "source": [
    "model_gamma = openmc.Model(my_geometry, my_materials, my_gamma_settings, tallies)\n",
    "\n",
    "Path(\"photons\").mkdir(exist_ok=True)\n",
    "gamma_sp_filename = model_gamma.run(cwd=\"photons\")"
   ]
  },
  {
   "cell_type": "markdown",
   "id": "e4a1fdf2",
   "metadata": {},
   "source": [
    "You may wish to plot the dose tally on a mesh, this package makes it easy to include the geometry with the mesh tally"
   ]
  },
  {
   "cell_type": "code",
   "execution_count": null,
   "id": "8d3c2065",
   "metadata": {},
   "outputs": [],
   "source": [
    "from openmc_regular_mesh_plotter import plot_mesh_tally\n",
    "with openmc.StatePoint(gamma_sp_filename) as statepoint:\n",
    "    photon_tally = statepoint.get_tally(name=\"photon_dose_on_mesh\")\n",
    "\n",
    "    # normalising this tally is a little different to other examples as the source strength has been using units of photons per second.\n",
    "    # tally.mean is in units of pSv-cm3/source photon.\n",
    "    # as source strength is in photons_per_second this changes units to pSv-/second\n",
    "\n",
    "    # multiplication by pico_to_micro converts from (pico) pSv/s to (micro) uSv/s\n",
    "    # dividing by mesh voxel volume cancles out the cm3 units\n",
    "    # could do the mesh volume scaling on the plot and vtk functions but doing it here instead\n",
    "    pico_to_micro = 1e-6\n",
    "    seconds_to_hours = 60*60\n",
    "    scaling_factor = (seconds_to_hours * pico_to_micro) / regularmesh.volumes[0][0][0]\n",
    "\n",
    "    plot = plot_mesh_tally(\n",
    "            tally=photon_tally,\n",
    "            basis=\"xz\",\n",
    "            # score='flux', # only one tally so can make use of default here\n",
    "            value=\"mean\",\n",
    "            colorbar_kwargs={\n",
    "                'label': \"Decay photon dose [µSv/h]\",\n",
    "            },\n",
    "            norm=LogNorm(),\n",
    "            volume_normalization=False,  # this is done in the scaling_factor\n",
    "            scaling_factor=scaling_factor,\n",
    "        )\n",
    "    plot.figure.savefig(f'shut_down_dose_map_timestep.png')"
   ]
  },
  {
   "cell_type": "markdown",
   "id": "6699c6aa",
   "metadata": {},
   "source": [
    "You may want to increase the resolution of the regularmesh and rerun the simulation\n",
    "\n",
    "I can also recommend talking a look shutdown dose rate simulations using the D1S\n",
    "\n",
    "D1S is generally quicker than R2S.\n",
    "\n",
    "R2S allows the user the possibility of changing the geometry between the neutron and gamma simulation.\n",
    "This can be useful for doing shutdown dose rate simulations with moving geometry of geometry that has been irradiated in one position then moved for maintenance and is still active."
   ]
  },
  {
   "cell_type": "markdown",
   "id": "5ba952d5",
   "metadata": {},
   "source": []
  }
 ],
 "metadata": {
  "kernelspec": {
   "display_name": ".neutronicsworkshop2",
   "language": "python",
   "name": "python3"
  },
  "language_info": {
   "codemirror_mode": {
    "name": "ipython",
    "version": 3
   },
   "file_extension": ".py",
   "mimetype": "text/x-python",
   "name": "python",
   "nbconvert_exporter": "python",
   "pygments_lexer": "ipython3",
   "version": "3.11.0rc1"
  }
 },
 "nbformat": 4,
 "nbformat_minor": 5
}
