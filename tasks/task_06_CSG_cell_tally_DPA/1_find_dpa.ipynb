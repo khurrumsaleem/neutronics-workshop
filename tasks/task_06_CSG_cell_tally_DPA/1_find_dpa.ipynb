{
 "cells": [
  {
   "cell_type": "markdown",
   "metadata": {},
   "source": [
    "# Simulating Displacements Per Atom (DPA)\n",
    "\n",
    "Displacements per atom (DPA) is one measure of damage within materials exposed to neutron irradiation. Damage energy can be tallied in OpenMC with MT reaction number 444 and DPA can be estimated.\n",
    "\n",
    "In the case of DPA a neutronics code alone can't fully calculate the value as material science techniques are needed to account for the material and recombination effects. For example, after a displacement there is a chance that the atom relocates to it's original lattice position (recombination) and different atoms require different amounts of energy to [displace](https://fispact.ukaea.uk/wiki/Output_interpretation#DPA_and_KERMA). The DPA tally from neutronics is therefore only an estimate of the DPA.\n",
    "\n",
    "The MT 444 / damage energy tally is in units of eV per source particle. Therefore the result needs scaling by the source intensity (in neutrons per second), the irradiation duration (in seconds) and the number of atoms in the volume."
   ]
  },
  {
   "cell_type": "code",
   "execution_count": null,
   "metadata": {},
   "outputs": [],
   "source": [
    "from IPython.display import IFrame\n",
    "IFrame(src=\"https://www.youtube.com/embed/VLn59FSc4GA\", width=560, height=340)"
   ]
  },
  {
   "cell_type": "markdown",
   "metadata": {},
   "source": [
    "First import OpenMC and configure the nuclear data path"
   ]
  },
  {
   "cell_type": "code",
   "execution_count": null,
   "metadata": {},
   "outputs": [],
   "source": [
    "import openmc\n",
    "from pathlib import Path\n",
    "# Setting the cross section path to the correct location in the docker image.\n",
    "# If you are running this outside the docker image you will have to change this path to your local cross section path.\n",
    "openmc.config['cross_sections'] = Path.home() / 'nuclear_data' / 'cross_sections.xml'"
   ]
  },
  {
   "cell_type": "markdown",
   "metadata": {},
   "source": [
    "This first stage sets up the geometry and materials for the simulation."
   ]
  },
  {
   "cell_type": "code",
   "execution_count": null,
   "metadata": {},
   "outputs": [],
   "source": [
    "# MATERIALS\n",
    "\n",
    "density_of_iron_in_g_per_cm3 = 7.75\n",
    "mat_iron = openmc.Material()\n",
    "mat_iron.set_density('g/cm3', density_of_iron_in_g_per_cm3)\n",
    "mat_iron.add_element('Fe', 1.0, percent_type='wo')\n",
    "mat_iron.id = 1 # the id is set so that is can be accessed later from the volume calculation\n",
    "my_materials = openmc.Materials([mat_iron])\n",
    "\n",
    "\n",
    "# GEOMETRY\n",
    "\n",
    "# surfaces\n",
    "outer_surface = openmc.Sphere(r=100, boundary_type='vacuum')\n",
    "\n",
    "# cells\n",
    "vessel_region = -outer_surface\n",
    "vessel_cell = openmc.Cell(region=vessel_region)\n",
    "vessel_cell.id = 1 # the id is set so that is can be accessed later from the volume calculation\n",
    "vessel_cell.fill = mat_iron\n",
    "\n",
    "my_geometry = openmc.Geometry([vessel_cell])\n",
    "\n",
    "\n",
    "# SIMULATION SETTINGS\n",
    "\n",
    "# Instantiate a Settings object\n",
    "my_settings = openmc.Settings()\n",
    "batches = 10\n",
    "my_settings.batches = batches\n",
    "my_settings.inactive = 0\n",
    "my_settings.particles = 10000\n",
    "my_settings.run_mode = 'fixed source'\n",
    "\n",
    "# Create a DT point source\n",
    "my_source = openmc.IndependentSource()\n",
    "my_source.space = openmc.stats.Point((0, 0, 0))\n",
    "my_source.angle = openmc.stats.Isotropic()\n",
    "my_source.energy = openmc.stats.Discrete([14e6], [1])\n",
    "my_settings.source = my_source"
   ]
  },
  {
   "cell_type": "markdown",
   "metadata": {},
   "source": [
    "This sets up the damage energy tally using the score name 'damage-energy' which the same as the ENDF MT number 444. A list of MT numbers including their reaction discription can be found [here](https://t2.lanl.gov/nis/endf/mts.html)."
   ]
  },
  {
   "cell_type": "code",
   "execution_count": null,
   "metadata": {},
   "outputs": [],
   "source": [
    "# added a cell tally for DPA to the iron vessel cell\n",
    "cell_filter = openmc.CellFilter(vessel_cell)\n",
    "dpa_reaction_tally = openmc.Tally(name='DPA')\n",
    "dpa_reaction_tally.filters = [cell_filter]\n",
    "dpa_reaction_tally.scores = ['damage-energy']  # Could use '444' instead, which is the MT reaction number for damage energy more MT numbers here https://t2.lanl.gov/nis/endf/mts.html\n",
    "dpa_reaction_tally.nuclides = ['Fe54', 'Fe56', 'Fe57', 'Fe58'] # this records the tally for each nuclide in the list\n",
    "my_tallies = openmc.Tallies([dpa_reaction_tally])"
   ]
  },
  {
   "cell_type": "markdown",
   "metadata": {},
   "source": [
    "The geometry is very simple but we can still plot it with the source term just to check we have made the geometry as expected"
   ]
  },
  {
   "cell_type": "code",
   "execution_count": null,
   "metadata": {},
   "outputs": [],
   "source": [
    "model = openmc.Model(my_geometry, my_materials, my_settings, my_tallies)\n",
    "model.plot(n_samples=10, pixels=400000)"
   ]
  },
  {
   "cell_type": "markdown",
   "metadata": {},
   "source": [
    "This runs the simulation."
   ]
  },
  {
   "cell_type": "code",
   "execution_count": null,
   "metadata": {},
   "outputs": [],
   "source": [
    "\n",
    "!rm *.h5\n",
    "sp_filename = model.run()"
   ]
  },
  {
   "cell_type": "markdown",
   "metadata": {},
   "source": [
    "This extracts the simulation results and displays the damage-energy (444 MT number tally) for each nuclide"
   ]
  },
  {
   "cell_type": "code",
   "execution_count": null,
   "metadata": {},
   "outputs": [],
   "source": [
    "sp = openmc.StatePoint(sp_filename)\n",
    "\n",
    "# access the tally\n",
    "tally = sp.get_tally(name='DPA')\n",
    "\n",
    "df = tally.get_pandas_dataframe()\n",
    "\n",
    "print(df)"
   ]
  },
  {
   "cell_type": "markdown",
   "metadata": {},
   "source": [
    "The damage-energy ($T_{d}$) represents the the kinetic energy available for creating atomic displacements. This variable can be used to compute the total number of displacements per atom - or DPA. The current international standard [1] for quantifying DPA is based on the Kinchin-Pease model or NRT equation [2], which states that the number of Frenkel pairs produced $N_{d}$ in a material with displacement energy $E_{d}$ for a nuclear deposited energy $T_{d}$ is\n",
    "\n",
    "$$N_{d} = \\dfrac{0.8T_{d}}{2E_d},$$\n",
    "\n",
    "where the factor 0.8 was introduced by the authors to allow for realistic atomic scattering instead of the hard core approximation.\n",
    "\n",
    "[1] ASTM Standard E693-94, 'Standard practice for characterising neutron exposure in iron and low alloy steels in terms of displacements per atom (dpa)', 1994\n",
    "\n",
    "[2] https://doi.org/10.1016%2F0029-5493%2875%2990035-7"
   ]
  },
  {
   "cell_type": "code",
   "execution_count": null,
   "metadata": {},
   "outputs": [],
   "source": [
    "damage_energy_in_ev = df['mean'].sum() #T_D in NRT equation\n",
    "E_D = 40 # threshold displacement energy of Fe in eV\n",
    "\n",
    "print('Damage energy deposited per source neutron = ', f\"{damage_energy_in_ev:.2f}\", 'eV\\n')\n",
    "\n",
    "print('Two times the threshold energy of 40eV is needed to displace an atom')\n",
    "displacements_per_source_neutron = 0.8*damage_energy_in_ev / (2*E_D)\n",
    "print('(NRT) Displacements per source neutron = ', f\"{displacements_per_source_neutron:.2f}\", '\\n')"
   ]
  },
  {
   "cell_type": "code",
   "execution_count": null,
   "metadata": {},
   "outputs": [],
   "source": [
    "fusion_power = 3e9  # units Watts\n",
    "energy_per_fusion_reaction = 17.6e6  # units eV\n",
    "eV_to_Joules = 1.60218e-19  # multiplication factor to convert eV to Joules\n",
    "number_of_neutrons_per_second = fusion_power / (energy_per_fusion_reaction * eV_to_Joules)\n",
    "print('Number of neutrons per second', f\"{number_of_neutrons_per_second:.2e}\", '\\n')\n",
    "\n",
    "number_of_neutrons_per_year = number_of_neutrons_per_second * 60 * 60 * 24 * 365.25\n",
    "print('Number of neutrons per full power year ', f\"{number_of_neutrons_per_year:.2e}\")\n",
    "\n",
    "displacements_for_all_atoms = number_of_neutrons_per_year * displacements_per_source_neutron\n",
    "print('(NRT) Displacements for all atoms in the volume ', f\"{displacements_for_all_atoms:.2e}\", '\\n')\n",
    "\n",
    "print('Now the number of atoms in the volume must be found to find displacements per atom (DPA)')\n",
    "\n",
    "volume_of_firstwall_cell = 4.18879e6  # 4/3PiR^3 with R=100\n",
    "\n",
    "iron_atomic_mass_in_g = 55.845*1.66054E-24  # molar mass multiplier by the atomic mass unit (u)\n",
    "number_of_iron_atoms = volume_of_firstwall_cell * density_of_iron_in_g_per_cm3 / (iron_atomic_mass_in_g)\n",
    "\n",
    "print('Number of iron atoms in the firstwall ', f\"{number_of_iron_atoms:.2e}\")"
   ]
  },
  {
   "cell_type": "markdown",
   "metadata": {},
   "source": [
    "Therefore, as the total number of atoms and the total number of displacements is known, NRT-DPA can be found."
   ]
  },
  {
   "cell_type": "code",
   "execution_count": null,
   "metadata": {},
   "outputs": [],
   "source": [
    "DPA_NRT = displacements_for_all_atoms / number_of_iron_atoms\n",
    "\n",
    "print('NRT-DPA =', f\"{DPA_NRT:.2f}\")"
   ]
  },
  {
   "cell_type": "markdown",
   "metadata": {},
   "source": [
    "Recently, a new method [3] was proposed in 2018 to solve the limitations of NRT equation. Namely, experiments have shown that \"the number of radiation defects produced in energetic cascades in metals is only ~1/3 the NRT-DPA prediction\". The arc-DPA (athermal recombination corrected) extends the NRT-DPA approach by assuming that, after the so-called 'thermal spike', \"almost all atoms regain positions in the perfect lattice sites [...] only interstitials transported to the cascade outer periphery will result in stable defects\". \n",
    "\n",
    "Hence, in order to account for this behaviour, the authors modified the original NRT equation as follows:\n",
    "\n",
    "$$N_{d} = \\dfrac{0.8T_{D}}{2E_d} \\cdot \\xi(T_d)= \\dfrac{0.8T_{D}}{2E_d}\\left( \\dfrac{1-c}{{(2E_D/0.8)}^b} {T_D}^b + c\\right),$$\n",
    "\n",
    "where $\\xi$ is a surviving defect fraction factor and $b$ and $c$ are constants for a given metal. For Fe, $b=−0.568$ and $c=0.286$.\n",
    "\n",
    "[3] DOI: 10.1038/s41467-018-03415-5"
   ]
  },
  {
   "cell_type": "code",
   "execution_count": null,
   "metadata": {},
   "outputs": [],
   "source": [
    "b = -0.568 # constant for Fe\n",
    "c = 0.286\n",
    "\n",
    "surviving_defect_fraction_factor = (1-c)*(displacements_per_source_neutron)**b+c\n",
    "displacements_per_source_neutron_arc = displacements_per_source_neutron*surviving_defect_fraction_factor\n",
    "\n",
    "print('(arc) Displacements per source neutron = ', f\"{displacements_per_source_neutron_arc:.2f}\", '\\n')\n",
    "\n",
    "displacements_for_all_atoms_arc = number_of_neutrons_per_year * displacements_per_source_neutron_arc\n",
    "print('(arc) Displacements for all atoms in the volume ', f\"{displacements_for_all_atoms_arc:.2e}\", '\\n')\n",
    "\n",
    "arc_NRT = displacements_for_all_atoms_arc / number_of_iron_atoms\n",
    "\n",
    "print('arc-DPA =', f\"{arc_NRT:.2f}\", '\\n')\n",
    "\n",
    "print('arc/NRT =', f\"{arc_NRT/DPA_NRT:.2f}\")"
   ]
  },
  {
   "cell_type": "markdown",
   "metadata": {},
   "source": [
    "In this task we knew the volume of the cell as it was a sphere of radius 100. If you don't know the volume of the cell there is a stochastic volume task that might be of interest as it shows you how OpenMC can find the volume of more complex cells.\n",
    "\n",
    "**Extra topics\n",
    "There are better methods of predicting DPA, further reading https://www.nature.com/articles/s41467-018-03415-5/\n",
    "\n",
    "**Learning Outcomes for Task 6:**\n",
    "\n",
    "- Damage energy deposited can be found with the OpenMC MT 444 tally.\n",
    "- Post tally calculations are sometimes required to convert neutronics numbers into something more useful."
   ]
  }
 ],
 "metadata": {
  "kernelspec": {
   "display_name": ".neutronicsworkshop_3.12",
   "language": "python",
   "name": "python3"
  },
  "language_info": {
   "codemirror_mode": {
    "name": "ipython",
    "version": 3
   },
   "file_extension": ".py",
   "mimetype": "text/x-python",
   "name": "python",
   "nbconvert_exporter": "python",
   "pygments_lexer": "ipython3",
   "version": "3.12.0"
  }
 },
 "nbformat": 4,
 "nbformat_minor": 4
}
