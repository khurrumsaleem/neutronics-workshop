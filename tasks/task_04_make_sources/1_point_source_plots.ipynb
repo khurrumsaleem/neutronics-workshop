{
 "cells": [
  {
   "attachments": {},
   "cell_type": "markdown",
   "metadata": {},
   "source": [
    "# Point source plotting\n",
    "\n",
    "To perform a neutronics simulation a neutron source must also be defined.\n",
    "\n",
    "This python notebook allows users to make a simple OpenMC point source and plot its energy, position and initial directions."
   ]
  },
  {
   "cell_type": "markdown",
   "metadata": {},
   "source": [
    "First import OpenMC and configure the nuclear data path"
   ]
  },
  {
   "cell_type": "code",
   "execution_count": null,
   "metadata": {},
   "outputs": [],
   "source": [
    "import openmc\n",
    "from pathlib import Path\n",
    "# Setting the cross section path to the correct location in the docker image.\n",
    "# If you are running this outside the docker image you will have to change this path to your local cross section path.\n",
    "openmc.config['cross_sections'] = Path.home() / 'nuclear_data' / 'cross_sections.xml'\n",
    "\n",
    "# provides simple source plotting functions\n",
    "# for more details here is a link to the package repository\n",
    "# https://github.com/fusion-energy/openmc_source_plotter\n",
    "from openmc_source_plotter import plot_source_energy, plot_source_position, plot_source_direction\n",
    "\n",
    "# allows notebook rendering of plotly plots in the HTML made by jupyter-book\n",
    "import plotly.offline as pyo\n",
    "pyo.init_notebook_mode(connected=True)"
   ]
  },
  {
   "attachments": {},
   "cell_type": "markdown",
   "metadata": {},
   "source": [
    "This first code block creates an isotropic point source with 14 MeV monoenergetic neutrons."
   ]
  },
  {
   "cell_type": "code",
   "execution_count": null,
   "metadata": {},
   "outputs": [],
   "source": [
    "# initialises a new source object\n",
    "my_source = openmc.IndependentSource()\n",
    "\n",
    "# sets the location of the source to x=0 y=0 z=0\n",
    "my_source.space = openmc.stats.Point((0, 0, 0))\n",
    "\n",
    "# sets the direction to isotropic\n",
    "my_source.angle = openmc.stats.Isotropic()\n",
    "\n",
    "# sets the energy distribution to 100% 14MeV neutrons\n",
    "my_source.energy = openmc.stats.Discrete([14e6], [1])"
   ]
  },
  {
   "attachments": {},
   "cell_type": "markdown",
   "metadata": {},
   "source": [
    "this next code block runs openmc and creates a file containing information on the initial particles. The energy information is the extracted and plotted"
   ]
  },
  {
   "cell_type": "code",
   "execution_count": null,
   "metadata": {},
   "outputs": [],
   "source": [
    "plot_source_energy(my_source)"
   ]
  },
  {
   "attachments": {},
   "cell_type": "markdown",
   "metadata": {},
   "source": [
    "The next code block creates an isotropic point source with a fission energy distribution."
   ]
  },
  {
   "cell_type": "code",
   "execution_count": null,
   "metadata": {},
   "outputs": [],
   "source": [
    "my_source_2 = openmc.IndependentSource()\n",
    "my_source_2.space = openmc.stats.Point((0, 0, 0))\n",
    "my_source_2.angle = openmc.stats.Isotropic()\n",
    "\n",
    "# Documentation on the Watt distribution is here\n",
    "# https://docs.openmc.org/en/stable/pythonapi/generated/openmc.data.WattEnergy.html\n",
    "my_source_2.energy = openmc.stats.Watt(a=988000.0, b=2.249e-06)\n",
    "\n",
    "plot_source_energy(my_source_2)"
   ]
  },
  {
   "attachments": {},
   "cell_type": "markdown",
   "metadata": {},
   "source": [
    "This code block creates an isotropic point source with a fusion energy distribution."
   ]
  },
  {
   "cell_type": "code",
   "execution_count": null,
   "metadata": {},
   "outputs": [],
   "source": [
    "my_source_3 = openmc.IndependentSource()\n",
    "my_source_3.space = openmc.stats.Point((0, 0, 0))\n",
    "my_source_3.angle = openmc.stats.Isotropic()\n",
    "\n",
    "# Documentation on the Muir distribution is here\n",
    "# https://docs.openmc.org/en/stable/pythonapi/generated/openmc.stats.muir.html\n",
    "my_source_3.energy = openmc.stats.muir(e0=14080000.0, m_rat=5.0, kt=20000.0)\n",
    "\n",
    "plot_source_energy(my_source_3)"
   ]
  },
  {
   "attachments": {},
   "cell_type": "markdown",
   "metadata": {},
   "source": [
    "The following code block plots the birth location of the neutrons from a 14 MeV monoenergetic point source."
   ]
  },
  {
   "cell_type": "code",
   "execution_count": null,
   "metadata": {},
   "outputs": [],
   "source": [
    "# Creates an isotropic point source with monoenergetic 14MeV neutrons\n",
    "my_source_4 = openmc.IndependentSource()\n",
    "my_source_4.space = openmc.stats.Point((0, 0, 0))\n",
    "my_source_4.angle = openmc.stats.Isotropic()\n",
    "my_source_4.energy = openmc.stats.Discrete([14e6], [1])\n",
    "\n",
    "plot_source_position(my_source_4)"
   ]
  },
  {
   "attachments": {},
   "cell_type": "markdown",
   "metadata": {},
   "source": [
    "Finally, the following code block plots the birth direction of the neutrons from the same source."
   ]
  },
  {
   "cell_type": "code",
   "execution_count": null,
   "metadata": {},
   "outputs": [],
   "source": [
    "# Creates an isotropic point source with monoenergetic 14MeV neutrons\n",
    "my_source_5 = openmc.IndependentSource()\n",
    "my_source_5.space = openmc.stats.Point((0, 0, 0))\n",
    "my_source_5.angle = openmc.stats.Isotropic()\n",
    "my_source_5.energy = openmc.stats.Discrete([14e6], [1])\n",
    "\n",
    "plot_source_direction(my_source_5)"
   ]
  },
  {
   "attachments": {},
   "cell_type": "markdown",
   "metadata": {},
   "source": [
    "For convenience a plasma source package has been made that wraps openmc.IndependentSource and provides easy creation of point (and other) fusion sources.\n",
    "https://github.com/fusion-energy/openmc-plasma-source/ you could try plotting the energy this source"
   ]
  },
  {
   "attachments": {},
   "cell_type": "markdown",
   "metadata": {},
   "source": [
    "**Learning Outcomes for Part 1:**\n",
    "\n",
    "- OpenMC can be used to create neutron point sources with different energy distributions."
   ]
  }
 ],
 "metadata": {
  "interpreter": {
   "hash": "5bd4b41850c31a1d72163a729a4c4fa5fa95797eb7378d3a268e56354026bb3c"
  },
  "kernelspec": {
   "display_name": "Python 3 (ipykernel)",
   "language": "python",
   "name": "python3"
  },
  "language_info": {
   "codemirror_mode": {
    "name": "ipython",
    "version": 3
   },
   "file_extension": ".py",
   "mimetype": "text/x-python",
   "name": "python",
   "nbconvert_exporter": "python",
   "pygments_lexer": "ipython3",
   "version": "3.10.12"
  },
  "vscode": {
   "interpreter": {
    "hash": "d4d1e4263499bec80672ea0156c357c1ee493ec2b1c70f0acce89fc37c4a6abe"
   }
  }
 },
 "nbformat": 4,
 "nbformat_minor": 4
}
