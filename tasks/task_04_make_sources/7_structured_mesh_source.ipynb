{
 "cells": [
  {
   "cell_type": "markdown",
   "metadata": {},
   "source": [
    "# Structured mesh source\n",
    "\n",
    "This example shows users how to make a mesh source using a cylindrical mesh and a source term for each voxel.\n",
    "\n",
    "This is a minimal example but a more realistic example could use the voxel location to look up properties of the plasma at each coordinate and customize the source energy and strength at each mesh voxel location"
   ]
  },
  {
   "cell_type": "code",
   "execution_count": null,
   "metadata": {},
   "outputs": [],
   "source": [
    "from pathlib import Path\n",
    "import numpy as np\n",
    "import openmc\n",
    "from openmc_source_plotter import plot_source_position\n",
    "# Setting the cross section path to the correct location in the docker image.\n",
    "# If you are running this outside the docker image you will have to change this path to your local cross section path.\n",
    "openmc.config['cross_sections'] = Path.home() / 'nuclear_data' / 'cross_sections.xml'\n",
    "\n",
    "# allows notebook rendering of plotly plots in the HTML made by jupyter-book\n",
    "import plotly.offline as pyo\n",
    "pyo.init_notebook_mode(connected=True)"
   ]
  },
  {
   "cell_type": "markdown",
   "metadata": {},
   "source": [
    "Making a minimal geometry"
   ]
  },
  {
   "cell_type": "code",
   "execution_count": null,
   "metadata": {},
   "outputs": [],
   "source": [
    "sphere_surf_1 = openmc.Sphere(r=2000)\n",
    "sphere_cell_1 = openmc.Cell(region=-sphere_surf_1)\n",
    "\n",
    "my_geometry = openmc.Geometry([sphere_cell_1])\n",
    "\n",
    "# creating the mesh used for the mesh source\n",
    "cylindrical_mesh = openmc.CylindricalMesh.from_domain(\n",
    "    my_geometry, # the corners of the mesh are being set automatically to surround the geometry\n",
    "    dimension=[10,10,10]\n",
    ")\n",
    "\n",
    "# empty list that will contain one source for each mesh voxel\n",
    "all_sources = []\n",
    "for i in cylindrical_mesh.indices:\n",
    "\n",
    "    mesh_index = (i[0]-1, i[1]-1, i[2]-1)\n",
    "    # this minimal example sets the same source for each voxel\n",
    "    # to create a realistic plasma source the mesh centroid could be used to\n",
    "    # find source strength, temperature and make a location specific source\n",
    "    # a function could be called that returns the temperature and relative source\n",
    "    # strength for each x,y,z or r, phi, z location\n",
    "    # voxel centroid can be obtained like this\n",
    "    # centroid = cylindrical_mesh.centroids[mesh_index]\n",
    "    # voxel cylindrical_coords (z, phi, r) can be obtained like this\n",
    "    cylindrical_coords = cylindrical_mesh.vertices_cylindrical[mesh_index]\n",
    "    volume = cylindrical_mesh.volumes[mesh_index]\n",
    " \n",
    "    # making a source for each voxel\n",
    "    my_source = openmc.IndependentSource()\n",
    "    my_source.energy = openmc.stats.Discrete([14.1e6], [1])\n",
    "    my_source.angle = openmc.stats.Isotropic()\n",
    "    if cylindrical_coords[2] > 1000: # filtering out sources below radius of 1000\n",
    "        my_source.strength = volume # uniform source\n",
    "    else:\n",
    "        my_source.strength = 0\n",
    "    all_sources.append(my_source)\n",
    "\n",
    "# creating the mesh source from the mesh and the list of sources\n",
    "# the main difference between MeshSpatial (previous example) and MeshSource is that in\n",
    "# MeshSpatial each mesh element has the same source with potentially a different\n",
    "# strength while in MeshSource the elements can have a different source.\n",
    "# Having a different source would allow a different energy distribution and therefore\n",
    "# MeshSources are useful for shut down dose rate simulations where each active element\n",
    "# results in a different photon emission\n",
    "mesh_source = openmc.MeshSource(\n",
    "    mesh=cylindrical_mesh,\n",
    "    sources=np.array(all_sources).reshape(cylindrical_mesh.dimension)\n",
    ")\n",
    "\n",
    "# Update all element source strengths such that they sum to 1.0.\n",
    "# this makes post processing the results easier if the total source strength is 1\n",
    "mesh_source.normalize_source_strengths()\n"
   ]
  },
  {
   "cell_type": "markdown",
   "metadata": {},
   "source": [
    "plotting the mesh source"
   ]
  },
  {
   "cell_type": "code",
   "execution_count": null,
   "metadata": {},
   "outputs": [],
   "source": [
    "plot = plot_source_position([mesh_source], n_samples=10000)\n",
    "plot.show()"
   ]
  }
 ],
 "metadata": {
  "kernelspec": {
   "display_name": "neutronicsworkshop",
   "language": "python",
   "name": "python3"
  },
  "language_info": {
   "codemirror_mode": {
    "name": "ipython",
    "version": 3
   },
   "file_extension": ".py",
   "mimetype": "text/x-python",
   "name": "python",
   "nbconvert_exporter": "python",
   "pygments_lexer": "ipython3",
   "version": "3.12.2"
  }
 },
 "nbformat": 4,
 "nbformat_minor": 2
}
