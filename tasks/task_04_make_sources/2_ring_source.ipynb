{
 "cells": [
  {
   "attachments": {},
   "cell_type": "markdown",
   "metadata": {},
   "source": [
    "# Ring source plotting\n",
    "\n",
    "This python notebook shows users how to make a simple ring source in OpenMC and plot the position of source particles."
   ]
  },
  {
   "attachments": {},
   "cell_type": "markdown",
   "metadata": {},
   "source": [
    "We will make use of the CylindricalIndependent source as described in the docs\n",
    "https://docs.openmc.org/en/stable/pythonapi/generated/openmc.stats.CylindricalIndependent.html\n",
    "\n",
    "The CylindricalIndependent source can make makes a ring shaped source with the corect inputs.\n",
    "- The r value (distribution of radius values)\n",
    "- The phi value (distribution of azimuthal angle values)\n",
    "- The z value (distribution of z values on the z axis)\n",
    "\n",
    "Each of these inputs must be a univariate probability disitribution."
   ]
  },
  {
   "attachments": {},
   "cell_type": "markdown",
   "metadata": {},
   "source": [
    "OpenMC has several built in distributions for popular distributions such as Normal, Maxwell and others.\n",
    "\n",
    "See the full list here https://docs.openmc.org/en/stable/pythonapi/stats.html#univariate-probability-distributions\n",
    "\n",
    "In this example we are going to make use of the Uniform disitrbution by feel free to tinker with the differnt distributions an make your own source."
   ]
  },
  {
   "cell_type": "markdown",
   "metadata": {},
   "source": [
    "First import OpenMC and configure the nuclear data path"
   ]
  },
  {
   "cell_type": "code",
   "execution_count": null,
   "metadata": {},
   "outputs": [],
   "source": [
    "import openmc\n",
    "from pathlib import Path\n",
    "# Setting the cross section path to the correct location in the docker image.\n",
    "# If you are running this outside the docker image you will have to change this path to your local cross section path.\n",
    "openmc.config['cross_sections'] = Path.home() / 'nuclear_data' / 'cross_sections.xml'\n",
    "\n",
    "# This package provides simple source plotting functions\n",
    "# for more details here is a link to the package repository\n",
    "# https://github.com/fusion-energy/openmc_source_plotter\n",
    "from openmc_source_plotter import plot_source_position\n",
    "\n",
    "# allows notebook rendering of plotly plots in the HTML made by jupyter-book\n",
    "import plotly.offline as pyo\n",
    "pyo.init_notebook_mode(connected=True)"
   ]
  },
  {
   "cell_type": "code",
   "execution_count": null,
   "metadata": {},
   "outputs": [],
   "source": [
    "\n",
    "# initialises a new source object\n",
    "my_source = openmc.IndependentSource()\n",
    "\n",
    "# the distribution of radius is just a single value\n",
    "radius = openmc.stats.Discrete([10], [1])\n",
    "\n",
    "# the distribution of source z values is just a single value\n",
    "z_values = openmc.stats.Discrete([0], [1])\n",
    "\n",
    "# the distribution of source azimuthal angles values is a uniform distribution between 0 and 2 Pi\n",
    "angle = openmc.stats.Uniform(a=0., b=2* 3.14159265359)\n",
    "\n",
    "# this makes the ring source using the three distributions and a radius\n",
    "my_source.space = openmc.stats.CylindricalIndependent(r=radius, phi=angle, z=z_values, origin=(0.0, 0.0, 0.0))\n",
    "\n",
    "# sets the direction to isotropic\n",
    "my_source.angle = openmc.stats.Isotropic()\n",
    "\n",
    "# sets the energy distribution to a Muir distribution neutrons\n",
    "my_source.energy = openmc.stats.muir(e0=14080000.0, m_rat=5.0, kt=20000.0)"
   ]
  },
  {
   "attachments": {},
   "cell_type": "markdown",
   "metadata": {},
   "source": [
    "this next code block runs openmc and creates a file containing information on the initial particles. The position information is the extracted and plotted"
   ]
  },
  {
   "cell_type": "code",
   "execution_count": null,
   "metadata": {},
   "outputs": [],
   "source": [
    "plot_source_position(my_source)"
   ]
  },
  {
   "attachments": {},
   "cell_type": "markdown",
   "metadata": {},
   "source": [
    "This is closer to looking like a plasma compared to a point source but the distribution of spatial distribution can be improved in the next task"
   ]
  },
  {
   "cell_type": "code",
   "execution_count": null,
   "metadata": {},
   "outputs": [],
   "source": [
    "# these plotting methods can also be run if you are interested in energy or direction\n",
    "# they will need importing from the openmc_source_plotter package\n",
    "# plot_source_energy(my_source)\n",
    "# plot_source_direction(my_source)"
   ]
  },
  {
   "attachments": {},
   "cell_type": "markdown",
   "metadata": {},
   "source": [
    "For convenience a plasma source package has been made that wraps openmc.IndependentSource and provides easy creation of ring (and other) fusion sources.\n",
    "https://github.com/fusion-energy/openmc-plasma-source you could try plotting the position of this source"
   ]
  }
 ],
 "metadata": {
  "kernelspec": {
   "display_name": "cq_master_paramak2",
   "language": "python",
   "name": "python3"
  },
  "language_info": {
   "codemirror_mode": {
    "name": "ipython",
    "version": 3
   },
   "file_extension": ".py",
   "mimetype": "text/x-python",
   "name": "python",
   "nbconvert_exporter": "python",
   "pygments_lexer": "ipython3",
   "version": "3.12.2"
  }
 },
 "nbformat": 4,
 "nbformat_minor": 4
}
