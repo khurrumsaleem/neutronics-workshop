{
 "cells": [
  {
   "cell_type": "markdown",
   "metadata": {},
   "source": [
    "# Unstructured mesh source\n",
    "\n",
    "This example makes use of a DAGMC unstructured tet mesh to produce a source with a MeshSpatial distribution."
   ]
  },
  {
   "cell_type": "code",
   "execution_count": null,
   "metadata": {},
   "outputs": [],
   "source": [
    "import openmc\n",
    "from pathlib import Path\n",
    "from cad_to_dagmc import CadToDagmc\n",
    "from openmc_source_plotter import plot_source_position\n",
    "# Setting the cross section path to the correct location in the docker image.\n",
    "# If you are running this outside the docker image you will have to change this path to your local cross section path.\n",
    "openmc.config['cross_sections'] = Path.home() / 'nuclear_data' / 'cross_sections.xml'\n",
    "\n",
    "# allows notebook rendering of plotly plots in the HTML made by jupyter-book\n",
    "import plotly.offline as pyo\n",
    "pyo.init_notebook_mode(connected=True)"
   ]
  },
  {
   "cell_type": "markdown",
   "metadata": {},
   "source": [
    "This section loads a CAD step file and creates an unstrucutred DAGMC tet mesh\n",
    "\n",
    "The resulting mesh file (umesh.mesh) is already included in the repo\n",
    "\n",
    "So this creation from step file is included for completeness but can be skipped\n",
    "\n"
   ]
  },
  {
   "cell_type": "code",
   "execution_count": null,
   "metadata": {},
   "outputs": [],
   "source": [
    "cad = CadToDagmc()\n",
    "cad.add_stp_file('plasma_simplified_180.step')   \n",
    "cad.export_unstructured_mesh_file(filename=\"umesh.vtk\", max_mesh_size=100, min_mesh_size=10)\n",
    "\n",
    "# Setting the cross section path to the correct location in the docker image.\n",
    "# If you are running this outside the docker image you will have to change this path to your local cross section path.\n",
    "openmc.config['cross_sections'] = Path.home() / 'nuclear_data' / 'cross_sections.xml'\n",
    "\n",
    "umesh = openmc.UnstructuredMesh(filename=\"umesh.vtk\",library='moab')\n",
    "\n",
    "surf1 = openmc.Sphere(r=50000, boundary_type=\"vacuum\")\n",
    "region1 = -surf1\n",
    "\n",
    "cell1 = openmc.Cell(region=region1)\n",
    "\n",
    "my_geometry = openmc.Geometry([cell1])\n",
    "\n",
    "my_source = openmc.IndependentSource()\n",
    "my_source.angle = openmc.stats.Isotropic()\n",
    "my_source.energy = openmc.stats.Discrete([14e6], [1])\n",
    "# link to docs for MeshSpatial\n",
    "# https://docs.openmc.org/en/latest/pythonapi/generated/openmc.stats.MeshSpatial.html\n",
    "# allows us to apply the same source to each element in the mesh. The source can be varied in terms of strength\n",
    "my_source.space = openmc.stats.MeshSpatial(\n",
    "    mesh=umesh,\n",
    "    #we set the strengths to sum to 1 to make post processing easier.\n",
    "    # in a more accurate plasma source the strength could be adjusted based on the source position.\n",
    "    strengths=[1/1104]*1104,\n",
    "    volume_normalized=False\n",
    ")\n",
    "\n",
    "my_settings = openmc.Settings()\n",
    "my_settings.batches = 10\n",
    "my_settings.particles = 1000\n",
    "my_settings.run_mode = \"fixed source\"\n",
    "my_settings.source = my_source\n",
    "\n",
    "model = openmc.model.Model(my_geometry, None, my_settings )\n",
    "\n",
    "model.run()\n",
    "\n",
    "\n",
    "# plotting the mesh source\n",
    "plot = plot_source_position([my_source], n_samples=10000)\n",
    "plot.show()"
   ]
  }
 ],
 "metadata": {
  "kernelspec": {
   "display_name": "neutronicsworkshop",
   "language": "python",
   "name": "python3"
  },
  "language_info": {
   "codemirror_mode": {
    "name": "ipython",
    "version": 3
   },
   "file_extension": ".py",
   "mimetype": "text/x-python",
   "name": "python",
   "nbconvert_exporter": "python",
   "pygments_lexer": "ipython3",
   "version": "3.12.2"
  }
 },
 "nbformat": 4,
 "nbformat_minor": 2
}
