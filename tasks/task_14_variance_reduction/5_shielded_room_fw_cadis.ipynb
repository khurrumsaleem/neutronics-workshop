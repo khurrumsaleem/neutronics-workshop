{
 "cells": [
  {
   "attachments": {},
   "cell_type": "markdown",
   "id": "72e0b25d-e541-4e8d-8805-b984374ee53d",
   "metadata": {},
   "source": [
    "# FW CADIS Weight Windows\n",
    "\n",
    "Creating and utilizing a weight window to accelerate deep shielding simulations\n",
    "\n",
    "This example simulates a shield room / bunker with corridor entrance and a neutron source in the center of the room. This example implements a FW-CADIS of weight window generation. \n",
    "\n",
    "In this tutorial we shall focus on generating a weight window to accelerate the simulation of particles through a shield.\n",
    "\n",
    "Weight Windows are found using the FW-CADIS method and used to accelerate the simulation.\n",
    "\n",
    "The variance reduction method used for this simulation is well documented in the OpenMC documentation\n",
    "https://docs.openmc.org/en/stable/usersguide/variance_reduction.html\n"
   ]
  },
  {
   "attachments": {},
   "cell_type": "markdown",
   "id": "f00eddb1-1e3a-4973-ba0c-d8feeb2a6704",
   "metadata": {},
   "source": [
    "First we import ```openmc``` and other packages needed for the example and configure the nuclear data path"
   ]
  },
  {
   "cell_type": "code",
   "execution_count": null,
   "id": "3448d1db-4328-42e3-8960-50d53896f541",
   "metadata": {},
   "outputs": [],
   "source": [
    "import time  # used to time the simulation\n",
    "import numpy as np\n",
    "import copy\n",
    "\n",
    "from matplotlib import pyplot as plt\n",
    "from matplotlib.colors import LogNorm  # used for plotting log scale graphs\n",
    "\n",
    "import openmc\n",
    "from pathlib import Path\n",
    "# Setting the cross section path to the correct location in the docker image.\n",
    "# If you are running this outside the docker image you will have to change this path to your local cross section path.\n",
    "openmc.config['cross_sections'] = Path.home() / 'nuclear_data' / 'cross_sections.xml'\n"
   ]
  },
  {
   "attachments": {},
   "cell_type": "markdown",
   "id": "8179e89a-304b-4684-91a9-8a908b75e8cd",
   "metadata": {},
   "source": [
    "We create a couple of materials for the simulation"
   ]
  },
  {
   "cell_type": "code",
   "execution_count": null,
   "id": "47cb21c7-0afa-446c-9a6b-76c8dfb2f93e",
   "metadata": {},
   "outputs": [],
   "source": [
    "mat_air = openmc.Material(name=\"air\")\n",
    "mat_air.add_element(\"N\", 0.784431)\n",
    "mat_air.add_element(\"O\", 0.210748)\n",
    "mat_air.add_element(\"Ar\", 0.0046)\n",
    "mat_air.set_density(\"g/cc\", 0.001205)\n",
    "\n",
    "mat_concrete = openmc.Material(name='concrete')\n",
    "mat_concrete.add_element(\"H\",0.168759)\n",
    "mat_concrete.add_element(\"C\",0.001416)\n",
    "mat_concrete.add_element(\"O\",0.562524)\n",
    "mat_concrete.add_element(\"Na\",0.011838)\n",
    "mat_concrete.add_element(\"Mg\",0.0014)\n",
    "mat_concrete.add_element(\"Al\",0.021354)\n",
    "mat_concrete.add_element(\"Si\",0.204115)\n",
    "mat_concrete.add_element(\"K\",0.005656)\n",
    "mat_concrete.add_element(\"Ca\",0.018674)\n",
    "mat_concrete.add_element(\"Fe\",0.00426)\n",
    "mat_concrete.set_density(\"g/cm3\", 2.3)\n",
    "\n",
    "materials_continuous_xs = openmc.Materials([mat_air, mat_concrete])"
   ]
  },
  {
   "attachments": {},
   "cell_type": "markdown",
   "id": "424b234c-48a2-4d1b-b374-f69430e464db",
   "metadata": {},
   "source": [
    "Now we define and plot the geometry. This geometry is defined by parameters for every width and height. The parameters input into the geometry in a stacked manner so they can easily be adjusted to change the geometry without creating overlapping cells."
   ]
  },
  {
   "cell_type": "code",
   "execution_count": null,
   "id": "a72dc5e3-cb8e-41c2-9cfb-f8f7489c7f44",
   "metadata": {},
   "outputs": [],
   "source": [
    "width_a = 100\n",
    "width_b = 100\n",
    "width_c = 500\n",
    "width_d = 100\n",
    "width_e = 100\n",
    "width_f = 100\n",
    "width_g = 100\n",
    "\n",
    "depth_a = 100\n",
    "depth_b = 100\n",
    "depth_c = 700\n",
    "depth_d = 600\n",
    "depth_e = 100\n",
    "depth_f = 100\n",
    "\n",
    "height_j = 100\n",
    "height_k = 500\n",
    "height_l = 100\n",
    "\n",
    "xplane_0 = openmc.XPlane(x0=0, boundary_type=\"vacuum\")\n",
    "xplane_1 = openmc.XPlane(x0=xplane_0.x0 + width_a)\n",
    "xplane_2 = openmc.XPlane(x0=xplane_1.x0 + width_b)\n",
    "xplane_3 = openmc.XPlane(x0=xplane_2.x0 + width_c)\n",
    "xplane_4 = openmc.XPlane(x0=xplane_3.x0 + width_d)\n",
    "xplane_5 = openmc.XPlane(x0=xplane_4.x0 + width_e)\n",
    "xplane_6 = openmc.XPlane(x0=xplane_5.x0 + width_f)\n",
    "xplane_7 = openmc.XPlane(x0=xplane_6.x0 + width_g, boundary_type=\"vacuum\")\n",
    "\n",
    "yplane_0 = openmc.YPlane(y0=0, boundary_type=\"vacuum\")\n",
    "yplane_1 = openmc.YPlane(y0=yplane_0.y0 + depth_a)\n",
    "yplane_2 = openmc.YPlane(y0=yplane_1.y0 + depth_b)\n",
    "yplane_3 = openmc.YPlane(y0=yplane_2.y0 + depth_c)\n",
    "yplane_4 = openmc.YPlane(y0=yplane_3.y0 + depth_d)\n",
    "yplane_5 = openmc.YPlane(y0=yplane_4.y0 + depth_e)\n",
    "yplane_6 = openmc.YPlane(y0=yplane_5.y0 + depth_f, boundary_type=\"vacuum\")\n",
    "\n",
    "zplane_1 = openmc.ZPlane(z0=0, boundary_type=\"vacuum\")\n",
    "zplane_2 = openmc.ZPlane(z0=zplane_1.z0 + height_j)\n",
    "zplane_3 = openmc.ZPlane(z0=zplane_2.z0 + height_k)\n",
    "zplane_4 = openmc.ZPlane(z0=zplane_3.z0 + height_l, boundary_type=\"vacuum\")\n",
    "\n",
    "outside_left_region = +xplane_0 & -xplane_1 & +yplane_1 & -yplane_5 & +zplane_1 & -zplane_4\n",
    "wall_left_region = +xplane_1 & -xplane_2 & +yplane_2 & -yplane_4 & +zplane_2 & -zplane_3\n",
    "wall_right_region = +xplane_5 & -xplane_6 & +yplane_2 & -yplane_5 & +zplane_2 & -zplane_3\n",
    "wall_top_region = +xplane_1 & -xplane_4 & +yplane_4 & -yplane_5 & +zplane_2 & -zplane_3\n",
    "outside_top_region = +xplane_0 & -xplane_7 & +yplane_5 & -yplane_6 & +zplane_1 & -zplane_4\n",
    "wall_bottom_region = +xplane_1 & -xplane_6 & +yplane_1 & -yplane_2 & +zplane_2 & -zplane_3\n",
    "outside_bottom_region = +xplane_0 & -xplane_7 & +yplane_0 & -yplane_1 & +zplane_1 & -zplane_4\n",
    "wall_middle_region = +xplane_3 & -xplane_4 & +yplane_3 & -yplane_4 & +zplane_2 & -zplane_3\n",
    "outside_right_region = +xplane_6 & -xplane_7 & +yplane_1 & -yplane_5 & +zplane_1 & -zplane_4\n",
    "\n",
    "room_region = +xplane_2 & -xplane_3 & +yplane_2 & -yplane_4 & +zplane_2 & -zplane_3\n",
    "gap_region = +xplane_3 & -xplane_4 & +yplane_2 & -yplane_3 & +zplane_2 & -zplane_3\n",
    "corridor_region = +xplane_4 & -xplane_5 & +yplane_2 & -yplane_5 & +zplane_2 & -zplane_3\n",
    "\n",
    "roof_region = +xplane_1 & -xplane_6 & +yplane_1 & -yplane_5 & +zplane_1 & -zplane_2\n",
    "floor_region = +xplane_1 & -xplane_6 & +yplane_1 & -yplane_5 & +zplane_3 & -zplane_4\n",
    "\n",
    "outside_left_cell = openmc.Cell(region=outside_left_region, fill=mat_air)\n",
    "outside_right_cell = openmc.Cell(region=outside_right_region, fill=mat_air)\n",
    "outside_top_cell = openmc.Cell(region=outside_top_region, fill=mat_air)\n",
    "outside_bottom_cell = openmc.Cell(region=outside_bottom_region, fill=mat_air)\n",
    "wall_left_cell = openmc.Cell(region=wall_left_region, fill=mat_concrete)\n",
    "wall_right_cell = openmc.Cell(region=wall_right_region, fill=mat_concrete)\n",
    "wall_top_cell = openmc.Cell(region=wall_top_region, fill=mat_concrete)\n",
    "wall_bottom_cell = openmc.Cell(region=wall_bottom_region, fill=mat_concrete)\n",
    "wall_middle_cell = openmc.Cell(region=wall_middle_region, fill=mat_concrete)\n",
    "room_cell = openmc.Cell(region=room_region, fill=mat_air)\n",
    "gap_cell = openmc.Cell(region=gap_region, fill=mat_air)\n",
    "corridor_cell = openmc.Cell(region=corridor_region, fill=mat_air)\n",
    "\n",
    "roof_cell = openmc.Cell(region=roof_region, fill=mat_concrete)\n",
    "floor_cell = openmc.Cell(region=floor_region, fill=mat_concrete)\n",
    "\n",
    "geometry = openmc.Geometry(\n",
    "    [\n",
    "        outside_bottom_cell,\n",
    "        outside_top_cell,\n",
    "        outside_left_cell,\n",
    "        outside_right_cell,\n",
    "        wall_left_cell,\n",
    "        wall_right_cell,\n",
    "        wall_top_cell,\n",
    "        wall_bottom_cell,\n",
    "        wall_middle_cell,\n",
    "        room_cell,\n",
    "        gap_cell,\n",
    "        corridor_cell,\n",
    "        roof_cell,\n",
    "        floor_cell,\n",
    "    ]\n",
    ")"
   ]
  },
  {
   "attachments": {},
   "cell_type": "markdown",
   "id": "51713fe1",
   "metadata": {},
   "source": [
    "Now we plot the geometry and color by materials."
   ]
  },
  {
   "cell_type": "code",
   "execution_count": null,
   "id": "94c41f17",
   "metadata": {},
   "outputs": [],
   "source": [
    "plot = geometry.plot(basis='xy',  color_by='material')\n",
    "plot.figure.savefig('geometry_top_down_view.png', bbox_inches=\"tight\")"
   ]
  },
  {
   "attachments": {},
   "cell_type": "markdown",
   "id": "8d6bd790",
   "metadata": {},
   "source": [
    "Next we create a point source, this also uses the same geometry parameters to place in the center of the room regardless of the values of the parameters."
   ]
  },
  {
   "cell_type": "code",
   "execution_count": null,
   "id": "fd4986b0",
   "metadata": {},
   "outputs": [],
   "source": [
    "# location of the point source\n",
    "source_x = width_a + width_b + width_c * 0.5\n",
    "source_y = depth_a + depth_b + depth_c * 0.75\n",
    "source_z = height_j + height_k * 0.5\n",
    "space = openmc.stats.Point((source_x, source_y, source_z))\n",
    "\n",
    "# all (100%) of source particles are 2.5MeV energy\n",
    "source = openmc.IndependentSource(\n",
    "    space=space,\n",
    "    angle=openmc.stats.Isotropic(),\n",
    "    energy=openmc.stats.Discrete([2.5e6], [1.0]),\n",
    "    particle=\"neutron\"\n",
    ")"
   ]
  },
  {
   "cell_type": "markdown",
   "id": "ff67c3ac",
   "metadata": {},
   "source": [
    "Make the settings for our continuous energy MC solver"
   ]
  },
  {
   "cell_type": "code",
   "execution_count": null,
   "id": "0731aba5",
   "metadata": {},
   "outputs": [],
   "source": [
    "# Create settings\n",
    "settings = openmc.Settings()\n",
    "settings.run_mode = \"fixed source\"\n",
    "settings.source = source\n",
    "settings.particles = 80\n",
    "settings.batches = 100\n",
    "# Normally in fixed source problems we don't use inactivie batches.\n",
    "# However when using Random Ray we do need to use inactive batches\n",
    "# More info here https://docs.openmc.org/en/stable/usersguide/random_ray.html#batches\n",
    "settings.inactive = 50\n",
    "\n",
    "ce_model = openmc.Model(geometry, materials_continuous_xs, settings)"
   ]
  },
  {
   "cell_type": "markdown",
   "id": "72f91f95",
   "metadata": {},
   "source": [
    "At this point, we have a valid continuous energy Monte Carlo model!\n",
    "\n",
    "# Convert to Multigroup and Random Ray\n",
    "\n",
    "We begin by making a clone of our original continuous energy deck, and then convert it to multigroup.\n",
    "\n",
    "This step will automatically compute material-wise multigroup cross sections for us by running a continous energy OpenMC simulation internally."
   ]
  },
  {
   "cell_type": "code",
   "execution_count": null,
   "id": "42c62be1",
   "metadata": {},
   "outputs": [],
   "source": [
    "rr_model = copy.deepcopy(ce_model)\n",
    "rr_model.convert_to_multigroup(\n",
    "    # I tend to use \"stochastic_slab\" method here.\n",
    "    # Using the \"material_wise\" method is more accurate but slower\n",
    "    # In problems where one needs weight windows to solve we don't really want\n",
    "    # the calculation of weight windows to be slow.\n",
    "    # In extreme cases the \"material_wise\" method could require its own weight windows to solve.\n",
    "    # The \"stochastic_slab\" method is much faster and works well for most problems.\n",
    "    # more details here https://docs.openmc.org/en/latest/usersguide/random_ray.html#the-easy-way\n",
    "    method=\"stochastic_slab\", \n",
    "    overwrite_mgxs_library=True,  # overrights the \n",
    "    nparticles=2000 # this is the default but can be adjusted upward to improve the fidelity of the generated cross section library\n",
    ")"
   ]
  },
  {
   "cell_type": "markdown",
   "id": "c69dc5ba",
   "metadata": {},
   "source": [
    "We now have a valid multigroup Monte Carlo input deck, complete with a \"mgxs.h5\" multigroup cross section library file. Next, we convert the model to use random ray instead of multigroup monte carlo.\n",
    "\n",
    "Random ray is needed for use with the FW-CADIS algorithm (which requires global adjoint flux information that the random ray solver generates).\n",
    "\n",
    "The below function will analyze the geometry and initialize the random ray solver with reasonable parameters.\n",
    "\n",
    "Users are free to tweak these parameters to improve the performance of the random ray solver, but the defaults are likely sufficient for weight window generation purposes for most cases."
   ]
  },
  {
   "cell_type": "code",
   "execution_count": null,
   "id": "200913a2",
   "metadata": {},
   "outputs": [],
   "source": [
    "rr_model.convert_to_random_ray()"
   ]
  },
  {
   "cell_type": "markdown",
   "id": "6578acb8",
   "metadata": {},
   "source": [
    "# Create a Mesh for: Tallies / Weight Windows / Random Ray Source Region Subdivision"
   ]
  },
  {
   "cell_type": "markdown",
   "id": "eab5b3e9",
   "metadata": {},
   "source": [
    "Now we setup a mesh that will be used in three ways:\n",
    "1. For a mesh flux tally for viewing results\n",
    "2. For subdividing the random ray source regions into smaller cells\n",
    "3. For computing weight window parameters on"
   ]
  },
  {
   "cell_type": "code",
   "execution_count": null,
   "id": "9d7bbee6",
   "metadata": {},
   "outputs": [],
   "source": [
    "mesh = openmc.RegularMesh().from_domain(geometry)\n",
    "mesh.dimension = (100, 100, 1)\n",
    "mesh.id = 1\n",
    "\n",
    "# 1. Make a flux tally for viewing the results of the simulation\n",
    "mesh_filter = openmc.MeshFilter(mesh)\n",
    "flux_tally = openmc.Tally(name=\"flux tally\")\n",
    "flux_tally.filters = [mesh_filter]\n",
    "flux_tally.scores = [\"flux\"]\n",
    "flux_tally.id = 42  # we set the ID because we need to access this later\n",
    "tallies = openmc.Tallies([flux_tally])\n",
    "\n",
    "# 2. Subdivide random ray source regions\n",
    "rr_model.settings.random_ray['source_region_meshes'] = [(mesh, [rr_model.geometry.root_universe])]"
   ]
  },
  {
   "attachments": {},
   "cell_type": "markdown",
   "id": "9bc4e52b",
   "metadata": {},
   "source": [
    "Not required for WW generation, but one can run the regular (forward flux) random ray solver to make sure things are working before we attempt to generate weight windows with the command ```random_ray_wwg_statepoint = rr_model.run()```"
   ]
  },
  {
   "cell_type": "markdown",
   "id": "7d9afee2",
   "metadata": {},
   "source": [
    "# Use FW-CADIS to Generate Weight Windows"
   ]
  },
  {
   "cell_type": "markdown",
   "id": "e08b8669",
   "metadata": {},
   "source": [
    "Now add the weight window generator"
   ]
  },
  {
   "cell_type": "code",
   "execution_count": null,
   "id": "ca0db814",
   "metadata": {},
   "outputs": [],
   "source": [
    "rr_model.settings.weight_window_generators = openmc.WeightWindowGenerator(\n",
    "    method='fw_cadis',\n",
    "    mesh=mesh,\n",
    "    max_realizations=settings.batches\n",
    ")"
   ]
  },
  {
   "cell_type": "markdown",
   "id": "7759308b",
   "metadata": {},
   "source": [
    "Then run the random ray model. This will automatically run a normal forward flux solve followed by a subsequent adjoint solve that is used to compute the weight windows. Our outputted flux tally data will be in terms of adjoint fluxes."
   ]
  },
  {
   "cell_type": "code",
   "execution_count": null,
   "id": "51193faf",
   "metadata": {},
   "outputs": [],
   "source": [
    "random_ray_wwg_statepoint = rr_model.run()"
   ]
  },
  {
   "cell_type": "markdown",
   "id": "c85db7ae",
   "metadata": {},
   "source": [
    "Plot the **ADJOINT** flux. Not necessary, but interesting to see how they compare to the forward flux solve."
   ]
  },
  {
   "cell_type": "markdown",
   "id": "2737611a",
   "metadata": {},
   "source": [
    "Now we should see a weight_windows.h5 file has been created"
   ]
  },
  {
   "cell_type": "code",
   "execution_count": null,
   "id": "9005a35c",
   "metadata": {},
   "outputs": [],
   "source": [
    "!ls -lh weight_windows.h5"
   ]
  },
  {
   "attachments": {},
   "cell_type": "markdown",
   "id": "45a794dc",
   "metadata": {},
   "source": [
    "Plot the resulting weight windows with the geometry overlay"
   ]
  },
  {
   "cell_type": "code",
   "execution_count": null,
   "id": "fef2f2ce",
   "metadata": {},
   "outputs": [],
   "source": [
    "weight_windows = openmc.hdf5_to_wws('weight_windows.h5')\n",
    "\n",
    "ax1 = plt.subplot()\n",
    "im = ax1.imshow(\n",
    "    weight_windows[0].lower_ww_bounds.squeeze().T,\n",
    "    origin='lower',\n",
    "    extent=mesh.bounding_box.extent['xy'],\n",
    "    norm=LogNorm()\n",
    ")\n",
    "\n",
    "plt.colorbar(im, ax=ax1)\n",
    "\n",
    "ax1 = rr_model.plot(\n",
    "    outline='only',\n",
    "    extent=rr_model.bounding_box.extent['xz'],\n",
    "    axes=ax1,  # Use the same axis as ax1\\n\",\n",
    "    pixels=10_000_000,  #avoids rounded corners on outline\n",
    "    color_by='material',\n",
    ")\n",
    "ax1.set_title(\"lower_ww_bounds\")"
   ]
  },
  {
   "cell_type": "markdown",
   "id": "ce07ce48",
   "metadata": {},
   "source": [
    "# Use Weight Windows to Accelerate Original Continuous Energy Monte Carlo Solve\n",
    "\n",
    "Now, to utilize the weight windows, we will add the weight windows into our settings object and configure things for continuous energy MC."
   ]
  },
  {
   "cell_type": "code",
   "execution_count": null,
   "id": "70741ea5",
   "metadata": {},
   "outputs": [],
   "source": [
    "settings = openmc.Settings()\n",
    "\n",
    "settings.weight_window_checkpoints = {'collision': True, 'surface': True}\n",
    "settings.survival_biasing = False\n",
    "settings.weight_windows = weight_windows\n",
    "settings.particles = 40000\n",
    "settings.batches = 12\n",
    "settings.source = source\n",
    "settings.run_mode = \"fixed source\"\n",
    "\n",
    "tallies = openmc.Tallies([flux_tally])"
   ]
  },
  {
   "cell_type": "markdown",
   "id": "e18929ef",
   "metadata": {},
   "source": [
    "First, to demonstrate the impacts of the weight windows, let's run OpenMC without using them and plot the relative error in the fluxes. Given that the shield is optically thick, many regions will receive no tallies and/or have very high errors."
   ]
  },
  {
   "cell_type": "code",
   "execution_count": null,
   "id": "f46685d0",
   "metadata": {},
   "outputs": [],
   "source": [
    "\n",
    "settings.weight_windows_on = False # Turn off weight windows for now\n",
    "simulation_using_ww_off = openmc.Model(geometry, materials_continuous_xs, settings, tallies)"
   ]
  },
  {
   "cell_type": "markdown",
   "id": "5d5e0819",
   "metadata": {},
   "source": [
    "Creating a plotting function that we will reuse to plot results from the different simulations"
   ]
  },
  {
   "cell_type": "code",
   "execution_count": null,
   "id": "a9cb47af",
   "metadata": {},
   "outputs": [],
   "source": [
    "def run_and_plot(model: openmc.Model, image_filename: str) -> openmc.StatePoint:\n",
    "\n",
    "    !rm s*.h5 || true\n",
    "    sp_filename = model.run()\n",
    "\n",
    "    with openmc.StatePoint(sp_filename) as sp:\n",
    "        flux_tally = sp.get_tally(name=\"flux tally\")\n",
    "\n",
    "    mesh_extent = mesh.bounding_box.extent['xy']\n",
    "\n",
    "    # create a plot of the mean flux values\n",
    "    flux_mean = flux_tally.get_reshaped_data(value='mean', expand_dims=True).squeeze()\n",
    "\n",
    "    fig, (ax1, ax2) = plt.subplots(ncols=2, figsize=(10, 5))\n",
    "    ax1.imshow(\n",
    "        flux_mean.T,\n",
    "        origin=\"lower\",\n",
    "        extent=mesh_extent,\n",
    "        norm=LogNorm(),\n",
    "    )\n",
    "\n",
    "    ax1 = model.plot(\n",
    "        outline='only',\n",
    "        extent=model.bounding_box.extent['xz'],\n",
    "        axes=ax1,  # Use the same axis as ax1\\n\",\n",
    "        pixels=10_000_000,  #avoids rounded corners on outline\n",
    "        color_by='material',\n",
    "    )\n",
    "    ax1.set_title(\"Flux Mean\")\n",
    "\n",
    "    # create a plot of the flux relative error\n",
    "    flux_std_dev = flux_tally.get_reshaped_data(value='std_dev', expand_dims=True).squeeze()\n",
    "    ax2.imshow(\n",
    "        flux_std_dev.T,\n",
    "        origin=\"lower\",\n",
    "        extent=mesh_extent,\n",
    "        norm=LogNorm(),\n",
    "    )\n",
    "\n",
    "    ax2 = model.plot(\n",
    "        outline='only',\n",
    "        extent=model.bounding_box.extent['xz'],\n",
    "        axes=ax2,  # Use the same axis as ax2\\n\",\n",
    "        pixels=10_000_000,  #avoids rounded corners on outline\n",
    "        color_by='material',\n",
    "    )\n",
    "    ax2.set_title(\"Flux Std. Dev.\")\n",
    "\n",
    "    plt.savefig(image_filename)\n",
    "    return sp"
   ]
  },
  {
   "cell_type": "code",
   "execution_count": null,
   "id": "21e2fcf8",
   "metadata": {},
   "outputs": [],
   "source": [
    "run_and_plot(simulation_using_ww_off, \"no_fw_cadis.png\")"
   ]
  },
  {
   "cell_type": "markdown",
   "id": "7e732ec8",
   "metadata": {},
   "source": [
    "As expected, the error spikes quickly once entering the shield, with most areas deep into the shield receiving no tallies at all."
   ]
  },
  {
   "cell_type": "markdown",
   "id": "acfdc9d1-a7e8-42ee-8dbd-2c4dc7ad9a8e",
   "metadata": {},
   "source": [
    "On this computer the simulation speed was 32553 particles per second for the simulation without weight windows and 6379 particles per second when weight windows were turned on. The particle splitting means individual particles take longer to simulate as the continue to be transported more.\n",
    "\n",
    "So the simulation with weight window took longer to run and consumed more compute, to make this a fair comparison we should chage the particles per batch or batches so that the simulations both have the same compute.\n",
    "\n",
    "Next, let's run OpenMC with weight windows enabled, and see the impact."
   ]
  },
  {
   "cell_type": "code",
   "execution_count": null,
   "id": "a7791bcf",
   "metadata": {},
   "outputs": [],
   "source": [
    "settings.weight_windows_on = True # Now, turn on the FW-CADIS generated weight windows\n",
    "settings.batches = 2\n",
    "simulation_using_ww_on = openmc.Model(geometry, materials_continuous_xs, settings, tallies)"
   ]
  },
  {
   "cell_type": "code",
   "execution_count": null,
   "id": "619f2dce",
   "metadata": {},
   "outputs": [],
   "source": [
    "run_and_plot(simulation_using_ww_on, \"fw_cadis.png\")"
   ]
  }
 ],
 "metadata": {
  "kernelspec": {
   "display_name": ".neutronicsworkshop_3.12",
   "language": "python",
   "name": "python3"
  },
  "language_info": {
   "codemirror_mode": {
    "name": "ipython",
    "version": 3
   },
   "file_extension": ".py",
   "mimetype": "text/x-python",
   "name": "python",
   "nbconvert_exporter": "python",
   "pygments_lexer": "ipython3",
   "version": "3.12.0"
  }
 },
 "nbformat": 4,
 "nbformat_minor": 5
}
