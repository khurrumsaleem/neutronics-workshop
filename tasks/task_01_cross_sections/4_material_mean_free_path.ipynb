{
 "cells": [
  {
   "attachments": {},
   "cell_type": "markdown",
   "metadata": {},
   "source": [
    "# Mean free path neutrons\n",
    "\n",
    "OpenMC can also be used find the mean free path of a neutron in a specific material.\n",
    "\n",
    "This python notebook allows users find the mean free path of some common fusion materials.\n",
    "\n",
    "This follows on from the previous notebook where material (Macroscopic) cross sections were plotted.\n",
    "\n",
    "These plots show the <b>Macroscopic</b> cross section which is the the effective target area of all of the nuclei contained in the volume of the material.\n",
    "\n",
    "Macroscopic cross section (Σ) is related to Microscopic cross section (σ) with the following equation.\n",
    "\n",
    "The units of (Σ) Macroscopic cross section are $\\mathrm{m}^{-1}$ and therefore the mean free path is just 1/Σ at the energy of the neutron"
   ]
  },
  {
   "attachments": {},
   "cell_type": "markdown",
   "metadata": {},
   "source": [
    "First import OpenMC and configure the nuclear data path"
   ]
  },
  {
   "cell_type": "code",
   "execution_count": null,
   "metadata": {},
   "outputs": [],
   "source": [
    "import openmc\n",
    "from pathlib import Path\n",
    "import matplotlib.pyplot as plt\n",
    "# Setting the cross section path to the correct location in the docker image.\n",
    "# If you are running this outside the docker image you will have to change this path to your local cross section path.\n",
    "openmc.config['cross_sections'] = Path.home() / 'nuclear_data' / 'cross_sections.xml'"
   ]
  },
  {
   "attachments": {},
   "cell_type": "markdown",
   "metadata": {},
   "source": [
    "We will now make some materials and get the mean free path at 14MeV (14e6eV) which is the rough energy DT neutrons are emitted with.\n",
    "\n",
    "We will also get the mean free path at thermal neutron energy, this is the energy neutrons have when they have been slowed down (moderated) to be in equilibrium with the material.\n",
    "\n",
    "We can start with a minimal steel."
   ]
  },
  {
   "cell_type": "code",
   "execution_count": null,
   "metadata": {},
   "outputs": [],
   "source": [
    "mat1 = openmc.Material(name = 'Steel')\n",
    "mat1.add_element('Fe', 0.975)\n",
    "mat1.add_element('C', 0.025)\n",
    "mat1.set_density('g/cm3', 7.7)\n",
    "\n",
    "mean_free_path_14 = mat1.mean_free_path(energy=14e6)\n",
    "mean_free_path_thermal = mat1.mean_free_path(energy=0.025)\n",
    "\n",
    "print(f'Mean free path of a neutron in {mat1.name} at 14e6 eV = {mean_free_path_14:.4f} cm')\n",
    "print(f'Mean free path of a neutron in {mat1.name} at 0.025 eV = {mean_free_path_thermal:.4f} cm')"
   ]
  },
  {
   "attachments": {},
   "cell_type": "markdown",
   "metadata": {},
   "source": [
    "Next material is tungsten which is often used as first wall armour."
   ]
  },
  {
   "cell_type": "code",
   "execution_count": null,
   "metadata": {},
   "outputs": [],
   "source": [
    "mat2 = openmc.Material(name = 'Tungsten')\n",
    "mat2.add_element('W', 1)\n",
    "mat2.set_density('g/cm3', 19.3)\n",
    "\n",
    "mean_free_path_14 = mat2.mean_free_path(energy=14e6)\n",
    "mean_free_path_thermal = mat2.mean_free_path(energy=0.025)\n",
    "\n",
    "print(f'Mean free path of a neutron in {mat2.name} at 14e6 eV = {mean_free_path_14:.4f} cm')\n",
    "print(f'Mean free path of a neutron in {mat2.name} at 0.025 eV = {mean_free_path_thermal:.4f} cm')"
   ]
  },
  {
   "attachments": {},
   "cell_type": "markdown",
   "metadata": {},
   "source": [
    "Next up is a lithium ceramic, Li4SiO4 is a candidate breeder material"
   ]
  },
  {
   "cell_type": "code",
   "execution_count": null,
   "metadata": {},
   "outputs": [],
   "source": [
    "mat3 = openmc.Material(name = 'Li4SiO4')\n",
    "mat3.add_element('Li', 4.0, percent_type='ao')\n",
    "mat3.add_element('Si', 1.0, percent_type='ao')\n",
    "mat3.add_element('O', 4.0, percent_type='ao')\n",
    "mat3.set_density('g/cm3', 2.32)\n",
    "\n",
    "mean_free_path_14 = mat3.mean_free_path(energy=14e6)\n",
    "mean_free_path_thermal = mat3.mean_free_path(energy=0.025)\n",
    "\n",
    "print(f'Mean free path of a neutron in {mat3.name} at 14e6 eV = {mean_free_path_14:.4f} cm')\n",
    "print(f'Mean free path of a neutron in {mat3.name} at 0.025 eV = {mean_free_path_thermal:.4f} cm')"
   ]
  },
  {
   "cell_type": "markdown",
   "metadata": {},
   "source": [
    "Finally concrete which is often used for bioshields, this is regular concrete and one might also consider borated or other concretes"
   ]
  },
  {
   "cell_type": "code",
   "execution_count": null,
   "metadata": {},
   "outputs": [],
   "source": [
    "mat4 = openmc.Material(name='Concrete')\n",
    "mat4.add_element(\"H\",0.168759)\n",
    "mat4.add_element(\"C\",0.001416)\n",
    "mat4.add_element(\"O\",0.562524)\n",
    "mat4.add_element(\"Na\",0.011838)\n",
    "mat4.add_element(\"Mg\",0.0014)\n",
    "mat4.add_element(\"Al\",0.021354)\n",
    "mat4.add_element(\"Si\",0.204115)\n",
    "mat4.add_element(\"K\",0.005656)\n",
    "mat4.add_element(\"Ca\",0.018674)\n",
    "mat4.add_element(\"Fe\",0.00426)\n",
    "mat4.set_density(\"g/cm3\", 2.3)\n",
    "\n",
    "mean_free_path_14 = mat4.mean_free_path(energy=14e6)\n",
    "mean_free_path_thermal = mat4.mean_free_path(energy=0.025)\n",
    "\n",
    "print(f'Mean free path of a neutron in {mat4.name} at 14e6 eV = {mean_free_path_14:.4f} cm')\n",
    "print(f'Mean free path of a neutron in {mat4.name} at 0.025 eV = {mean_free_path_thermal:.4f} cm')"
   ]
  },
  {
   "attachments": {},
   "cell_type": "markdown",
   "metadata": {},
   "source": [
    "This code block then plots the mean free path of the materials for comparison"
   ]
  },
  {
   "cell_type": "code",
   "execution_count": null,
   "metadata": {},
   "outputs": [],
   "source": [
    "all_materials = [mat1, mat2, mat3, mat4]\n",
    "\n",
    "labels = [m.name for m in all_materials]\n",
    "mfp_14 = [m.mean_free_path(energy=14e6) for m in all_materials]\n",
    "mfp_thermal = [m.mean_free_path(energy=0.025) for m in all_materials]\n",
    "\n",
    "bar_width = 0.35\n",
    "y = range(len(labels))\n",
    "\n",
    "fig, ax = plt.subplots(figsize=(8, 4))\n",
    "ax.barh([i + bar_width/2 for i in y], mfp_14, bar_width, label='14e6 eV')\n",
    "ax.barh([i - bar_width/2 for i in y], mfp_thermal, bar_width, label='Thermal (0.025 eV)')\n",
    "\n",
    "ax.set_yticks(y)\n",
    "ax.set_yticklabels(labels)\n",
    "ax.set_xlabel('Mean Free Path (cm)')\n",
    "ax.set_title('Mean Free Path of Neutrons in Different Materials')\n",
    "ax.legend()\n",
    "plt.tight_layout()\n",
    "plt.show()"
   ]
  },
  {
   "attachments": {},
   "cell_type": "markdown",
   "metadata": {},
   "source": [
    "**Learning Outcomes:**\n",
    "- OpenMC can be used to find the mean free path of a neutron in the material\n",
    "- The mean free path varies with neutron energy\n",
    "- The mean free path varies with material (composition and density)\n",
    "- The mean free path is shorter at thermal energies compared to the birth energy of a DT fusion neutron (14MeV)\n",
    "\n",
    "**Additional information**\n",
    "\n",
    "The mean free path information is useful when setting mesh sizes for weight window generation, more on that in the variance reduction tasks."
   ]
  }
 ],
 "metadata": {
  "kernelspec": {
   "display_name": ".venv_openmc",
   "language": "python",
   "name": "python3"
  },
  "language_info": {
   "codemirror_mode": {
    "name": "ipython",
    "version": 3
   },
   "file_extension": ".py",
   "mimetype": "text/x-python",
   "name": "python",
   "nbconvert_exporter": "python",
   "pygments_lexer": "ipython3",
   "version": "3.13.3"
  }
 },
 "nbformat": 4,
 "nbformat_minor": 4
}
