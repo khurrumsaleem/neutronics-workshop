{
 "cells": [
  {
   "attachments": {},
   "cell_type": "markdown",
   "metadata": {},
   "source": [
    "# 3D mesh tallies\n",
    "\n",
    "Mesh tallies can also be used to visualise neutron interactions spatially throughout a geometry in 3D.\n",
    "\n",
    "This notebook allows users to create a simple geometry from a few different materials and plot the results of a 3D regular mesh tally applied to the geometry."
   ]
  },
  {
   "attachments": {},
   "cell_type": "markdown",
   "metadata": {},
   "source": [
    "This first code block defines the model geometry, materials and neutron source."
   ]
  },
  {
   "cell_type": "markdown",
   "metadata": {},
   "source": [
    "First import OpenMC and configure the nuclear data path"
   ]
  },
  {
   "cell_type": "code",
   "execution_count": null,
   "metadata": {},
   "outputs": [],
   "source": [
    "import openmc\n",
    "from pathlib import Path\n",
    "\n",
    "import pyvista as pv\n",
    "import numpy as np\n",
    "\n",
    "# Setting the cross section path to the correct location in the docker image.\n",
    "# If you are running this outside the docker image you will have to change this path to your local cross section path.\n",
    "openmc.config['cross_sections'] = Path.home() / 'nuclear_data' / 'cross_sections.xml'"
   ]
  },
  {
   "cell_type": "code",
   "execution_count": null,
   "metadata": {
    "scrolled": true
   },
   "outputs": [],
   "source": [
    "# MATERIALS\n",
    "\n",
    "breeder_material = openmc.Material()   # Pb84.2Li15.8\n",
    "breeder_material.add_element('Pb', 84.2, percent_type='ao')\n",
    "breeder_material.add_element('Li', 15.8, percent_type='ao', enrichment=7.0, enrichment_target='Li6', enrichment_type='ao')   # natural enrichment = 7% Li6\n",
    "breeder_material.set_density('atom/b-cm', 3.2720171e-2)   # around 11 g/cm3\n",
    "\n",
    "copper_material = openmc.Material()\n",
    "copper_material.set_density('g/cm3', 8.5)\n",
    "copper_material.add_element('Cu', 1.0)\n",
    "\n",
    "eurofer_material = openmc.Material()\n",
    "eurofer_material.set_density('g/cm3', 7.75)\n",
    "eurofer_material.add_element('Fe', 89.067, percent_type='wo')\n",
    "\n",
    "my_materials = openmc.Materials([breeder_material, eurofer_material, copper_material])\n",
    "\n",
    "\n",
    "# GEOMETRY\n",
    "\n",
    "# surfaces\n",
    "central_sol_surface = openmc.ZCylinder(r=100)\n",
    "central_shield_outer_surface = openmc.ZCylinder(r=110)\n",
    "vessel_inner_surface = openmc.Sphere(r=500)\n",
    "first_wall_outer_surface = openmc.Sphere(r=510)\n",
    "breeder_blanket_outer_surface = openmc.Sphere(r=610, boundary_type='vacuum')\n",
    "\n",
    "# cells\n",
    "central_sol_region = -central_sol_surface & -breeder_blanket_outer_surface\n",
    "central_sol_cell = openmc.Cell(region=central_sol_region)\n",
    "central_sol_cell.fill = copper_material\n",
    "\n",
    "central_shield_region = +central_sol_surface & -central_shield_outer_surface & -breeder_blanket_outer_surface\n",
    "central_shield_cell = openmc.Cell(region=central_shield_region)\n",
    "central_shield_cell.fill = eurofer_material\n",
    "\n",
    "inner_vessel_region = -vessel_inner_surface & +central_shield_outer_surface\n",
    "inner_vessel_cell = openmc.Cell(region=inner_vessel_region)\n",
    "# no material set as default is vacuum\n",
    "\n",
    "first_wall_region = -first_wall_outer_surface & +vessel_inner_surface\n",
    "first_wall_cell = openmc.Cell(region=first_wall_region)\n",
    "first_wall_cell.fill = eurofer_material\n",
    "\n",
    "breeder_blanket_region = +first_wall_outer_surface & -breeder_blanket_outer_surface & +central_shield_outer_surface\n",
    "breeder_blanket_cell = openmc.Cell(region=breeder_blanket_region)\n",
    "breeder_blanket_cell.fill = breeder_material\n",
    "\n",
    "my_geometry = openmc.Geometry([central_sol_cell, central_shield_cell, inner_vessel_cell, first_wall_cell, breeder_blanket_cell])\n",
    "\n"
   ]
  },
  {
   "cell_type": "markdown",
   "metadata": {},
   "source": [
    "Making simulation settings and a cylindrical source"
   ]
  },
  {
   "cell_type": "code",
   "execution_count": null,
   "metadata": {},
   "outputs": [],
   "source": [
    "# Instantiate a Settings object\n",
    "my_settings = openmc.Settings()\n",
    "batches = 10\n",
    "my_settings.batches = batches\n",
    "my_settings.particles = 5000\n",
    "my_settings.run_mode = 'fixed source'\n",
    "\n",
    "# Create a DT point source\n",
    "source = openmc.IndependentSource()\n",
    "source.angle = openmc.stats.Isotropic()\n",
    "\n",
    "# the distribution of radius is just a single value\n",
    "radius = openmc.stats.Discrete([300], [1])\n",
    "\n",
    "# the distribution of source z values is just a single value\n",
    "z_values = openmc.stats.Discrete([0], [1])\n",
    "\n",
    "# the distribution of source azimuthal angles values is a uniform distribution between 0 and 2 Pi\n",
    "angle = openmc.stats.Uniform(a=0., b=2* 3.14159265359)\n",
    "\n",
    "# this makes the ring source using the three distributions and a radius\n",
    "source.space = openmc.stats.CylindricalIndependent(r=radius, phi=angle, z=z_values, origin=(0.0, 0.0, 0.0))\n",
    "\n",
    "# sets the direction to isotropic\n",
    "source.angle = openmc.stats.Isotropic()\n",
    "\n",
    "# sets the energy distribution to a Muir distribution neutrons\n",
    "source.energy = openmc.stats.muir(e0=14080000.0, m_rat=5.0, kt=20000.0)\n",
    "\n",
    "\n",
    "my_settings.source = source"
   ]
  },
  {
   "attachments": {},
   "cell_type": "markdown",
   "metadata": {},
   "source": [
    "This code block creates a 3D regular mesh between two coordinates with a specified resolution in each axis."
   ]
  },
  {
   "cell_type": "code",
   "execution_count": null,
   "metadata": {},
   "outputs": [],
   "source": [
    "# Create mesh which will be used for tally\n",
    "mesh = openmc.RegularMesh().from_domain(\n",
    "    my_geometry, # the corners of the mesh are being set automatically to surround the geometry\n",
    "    dimension=[100, 100, 100] # 100 voxels in each axis direction (r, z, phi)\n",
    ")"
   ]
  },
  {
   "attachments": {},
   "cell_type": "markdown",
   "metadata": {},
   "source": [
    "This code block creates two tallies on the mesh to record heating and tritium production."
   ]
  },
  {
   "cell_type": "code",
   "execution_count": null,
   "metadata": {},
   "outputs": [],
   "source": [
    "my_tallies = openmc.Tallies()\n",
    "# Create mesh filter for tally\n",
    "mesh_filter = openmc.MeshFilter(mesh)\n",
    "\n",
    "# Create flux mesh tally to score flux\n",
    "mesh_tally_1 = openmc.Tally(name='tbr_on_mesh')\n",
    "mesh_tally_1.filters = [mesh_filter]\n",
    "mesh_tally_1.scores = ['(n,Xt)']  # where X is a wildcard\n",
    "my_tallies.append(mesh_tally_1)\n",
    "\n",
    "# Create flux mesh tally to score flux\n",
    "mesh_tally_2 = openmc.Tally(name='heating_on_mesh')\n",
    "mesh_tally_2.filters = [mesh_filter]\n",
    "mesh_tally_2.scores = ['heating']\n",
    "my_tallies.append(mesh_tally_2)"
   ]
  },
  {
   "cell_type": "markdown",
   "metadata": {},
   "source": [
    "Now we make the model and plot the geometry with 100 samples of the neutron source shown as X points"
   ]
  },
  {
   "cell_type": "code",
   "execution_count": null,
   "metadata": {},
   "outputs": [],
   "source": [
    "model = openmc.Model(my_geometry, my_materials, my_settings, my_tallies)\n",
    "\n",
    "model.plot(n_samples=100, pixels=400000, basis='xy', color_by='material')\n",
    "\n",
    "# plane tolerance used as no points will be perfectly on the axis so this provides a tolerance for the plane\n",
    "model.plot(n_samples=100, plane_tolerance=50, pixels=400000, basis='yz', color_by='material')"
   ]
  },
  {
   "attachments": {},
   "cell_type": "markdown",
   "metadata": {},
   "source": [
    "This next code block runs the simulation."
   ]
  },
  {
   "cell_type": "code",
   "execution_count": null,
   "metadata": {},
   "outputs": [],
   "source": [
    "# deletes old statepoint and summary files\n",
    "!rm s*.h5\n",
    "\n",
    "# Run OpenMC!\n",
    "sp_filename = model.run()"
   ]
  },
  {
   "attachments": {},
   "cell_type": "markdown",
   "metadata": {},
   "source": [
    "This code block runs a python function which extracts the mesh tally data from the statepoint.h5 file and saves it as a vtk file."
   ]
  },
  {
   "cell_type": "code",
   "execution_count": null,
   "metadata": {},
   "outputs": [],
   "source": [
    "\n",
    "# loads up the output file from the simulation\n",
    "statepoint = openmc.StatePoint(sp_filename)\n",
    "\n",
    "# extracts the mesh tally by name\n",
    "my_tbr_tally = statepoint.get_tally(name='tbr_on_mesh')\n",
    "\n",
    "# converts the tally result into a VTK file\n",
    "mesh.write_data_to_vtk(\n",
    "    filename=\"tbr_tally_on_reg_mesh.vtk\",\n",
    "    datasets={\"mean\": my_tbr_tally.mean}  # the first \"mean\" is the name of the data set label inside the vtk file\n",
    ")\n",
    "\n",
    "# extracts the mesh tally by name\n",
    "my_heating_tally = statepoint.get_tally(name='heating_on_mesh')\n",
    "\n",
    "# converts the tally result into a VTK file\n",
    "# this time standard deviation error on the tally is added to the vtk file as another data set\n",
    "# the tally is also scaled from eV per source particle to Joules per source particle 1eV = 1.60218e-19J)\n",
    "# Try adding another scaling term to multiplying by the number of neutrons emitted per second would which would convert the units to Watts\n",
    "mesh.write_data_to_vtk(\n",
    "    filename=\"heating_tally_on_reg_mesh.vtk\",\n",
    "    datasets={\"mean\": my_heating_tally.mean * 1.60218e-19, \"std_dev\": my_heating_tally.std_dev * 1.60218e-19}\n",
    ")"
   ]
  },
  {
   "attachments": {},
   "cell_type": "markdown",
   "metadata": {},
   "source": [
    "Now we will make a simple plot of the geometry with pyvista."
   ]
  },
  {
   "cell_type": "code",
   "execution_count": null,
   "metadata": {},
   "outputs": [],
   "source": [
    "pv.set_jupyter_backend('html')\n",
    "mesh = pv.read('heating_tally_on_reg_mesh.vtk')\n",
    "mesh.set_active_scalars(name='mean')\n",
    "\n",
    "# get the positive values from the mesh to avoid log10 of zero or negative numbers\n",
    "positive_values = mesh['mean'][mesh['mean'] > 0]\n",
    "\n",
    "log_mean = np.log10(np.clip(mesh['mean'], a_min=positive_values.min(), a_max=None))\n",
    "mesh['log_mean'] = log_mean\n",
    "\n",
    "# cut the mesh in half along the y-axis and hide the back half\n",
    "clipped = mesh.clip(normal='y')\n",
    "\n",
    "# threshold the mesh to only show values above a certain percentage of the maximum value\n",
    "clipped_and_thresholded = clipped.threshold_percent(0.001)\n",
    "\n",
    "# set the the color scale to be logarithmic\n",
    "clipped_and_thresholded.set_active_scalars('log_mean')\n",
    "\n",
    "clipped_and_thresholded.plot()"
   ]
  },
  {
   "cell_type": "markdown",
   "metadata": {},
   "source": [
    "If you are running this in Docker you can click on the newly created vtk file in the file explorer to the left and download the vtk files onto your base computer and open them with a VTK file reader such as Paraview or Visit.\n",
    "\n",
    "Paraview or Visit can also be used to view the geometry file\n",
    "\n",
    "Paraview can be downloaded here: https://www.paraview.org/download/.\n",
    "\n",
    "Visit can be downloaded here: https://wci.llnl.gov/simulation/computer-codes/visit/downloads."
   ]
  },
  {
   "attachments": {},
   "cell_type": "markdown",
   "metadata": {},
   "source": [
    "**Learning Outcomes for Part 2:**\n",
    "\n",
    "- Mesh tallies can be used in neutronics simulations to measure a variety of different reactions such as neutron absorption, tritium production and flux.\n",
    "- How neutrons are dissipated around the reactor.\n",
    "\n",
    "Now try replacing the regular mesh used for the tally filter with a Spherical mesh and see if the first wall heating is more accurately captured.\n",
    "\n",
    "```python\n",
    "# SphericalMesh with 100 radial bins from r=0 to r=500 cm\n",
    "mesh = openmc.SphericalMesh(r_grid=np.linspace(0, 500, 100)).from_domain(\n",
    "    my_geometry, # the corners of the mesh are being set automatically to surround the geometry\n",
    "    dimension=[100, 100, 100] # 100 voxels in each axis direction (r, z, phi)\n",
    ")\n",
    "```"
   ]
  }
 ],
 "metadata": {
  "kernelspec": {
   "display_name": "Python 3 (ipykernel)",
   "language": "python",
   "name": "python3"
  },
  "language_info": {
   "codemirror_mode": {
    "name": "ipython",
    "version": 3
   },
   "file_extension": ".py",
   "mimetype": "text/x-python",
   "name": "python",
   "nbconvert_exporter": "python",
   "pygments_lexer": "ipython3",
   "version": "3.10.14"
  },
  "vscode": {
   "interpreter": {
    "hash": "c47dabf1cc2568b64caa04441372f68f02228a3c450a6b1274acdfdc3a93f19e"
   }
  }
 },
 "nbformat": 4,
 "nbformat_minor": 4
}
