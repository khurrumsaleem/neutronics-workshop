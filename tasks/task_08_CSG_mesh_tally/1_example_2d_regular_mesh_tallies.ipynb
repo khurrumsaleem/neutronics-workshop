{
 "cells": [
  {
   "cell_type": "markdown",
   "metadata": {},
   "source": [
    "# 2D mesh tallies\n",
    "\n",
    "So far we have seen that neutron and photon interactions can be tallied on surfaces or cells, but what if we want to tally neutron behaviour throughout a geometry? (rather than the integrated neutron behaviour over a surface or cell).\n",
    "\n",
    "A mesh tally allows a visual inspection of the neutron behaviour spatially throughout the geometry.\n",
    "\n",
    "The geometry is subdivided into many rectangles and the neutron behaviour is recorded (tallied) by the simulation in each of the small rectangles.\n",
    "\n",
    "This can form a 2D slice of the neutron interactions throughout the model.\n",
    "\n",
    "This notebook allows users to create a simple geometry from a few different materials and plot the results of a 2D regular mesh tally applied to the geometry.\n",
    "\n",
    "First import packages needed and configure the OpenMC nuclear data path"
   ]
  },
  {
   "cell_type": "code",
   "execution_count": null,
   "metadata": {},
   "outputs": [],
   "source": [
    "import matplotlib.pyplot as plt\n",
    "import openmc\n",
    "from pathlib import Path\n",
    "# Setting the cross section path to the correct location in the docker image.\n",
    "# If you are running this outside the docker image you will have to change this path to your local cross section path.\n",
    "openmc.config['cross_sections'] = Path.home() / 'nuclear_data' / 'cross_sections.xml'"
   ]
  },
  {
   "cell_type": "markdown",
   "metadata": {},
   "source": [
    "This code block defines the model materials."
   ]
  },
  {
   "cell_type": "code",
   "execution_count": null,
   "metadata": {},
   "outputs": [],
   "source": [
    "# creates two materials, one is a neutron multiplier (lead) and the other a tritium breeder (lithium)\n",
    "\n",
    "breeder_material = openmc.Material() \n",
    "breeder_material.add_element('Li', 1, percent_type='ao')\n",
    "breeder_material.set_density('g/cm3', 2.0)\n",
    "\n",
    "multiplier_material = openmc.Material() \n",
    "multiplier_material.add_element('Pb', 1, percent_type='ao')\n",
    "multiplier_material.set_density('g/cm3', 11.0)\n",
    "\n",
    "my_materials = openmc.Materials([breeder_material, multiplier_material])"
   ]
  },
  {
   "cell_type": "markdown",
   "metadata": {},
   "source": [
    "This code block defines the model geometry."
   ]
  },
  {
   "cell_type": "code",
   "execution_count": null,
   "metadata": {},
   "outputs": [],
   "source": [
    "# surfaces\n",
    "sph1 = openmc.Sphere(r=50)\n",
    "sph2 = openmc.Sphere(r=90, boundary_type='vacuum')\n",
    "plane1 = openmc.XPlane(20)\n",
    "\n",
    "# cells fileld with materials\n",
    "breeder_cell = openmc.Cell(region=+sph1 & -sph2 & -plane1)\n",
    "breeder_cell.fill = breeder_material\n",
    "\n",
    "multiplier_cell = openmc.Cell(region=+sph1 & -sph2 & +plane1)\n",
    "multiplier_cell.fill = multiplier_material\n",
    "\n",
    "# cell not filled with material (void cell)\n",
    "inner_vacuum_cell = openmc.Cell(region=-sph1)\n",
    "\n",
    "my_geometry = openmc.Geometry([inner_vacuum_cell, breeder_cell, multiplier_cell])"
   ]
  },
  {
   "cell_type": "markdown",
   "metadata": {},
   "source": [
    "This code block makes the model source and settings"
   ]
  },
  {
   "cell_type": "code",
   "execution_count": null,
   "metadata": {},
   "outputs": [],
   "source": [
    "# SETTINGS\n",
    "\n",
    "# Instantiate a Settings object\n",
    "my_settings = openmc.Settings()\n",
    "my_settings.batches = 100\n",
    "my_settings.inactive = 0\n",
    "my_settings.particles = 50\n",
    "my_settings.run_mode = 'fixed source'\n",
    "\n",
    "# creates a 14MeV point source\n",
    "my_source = openmc.IndependentSource()\n",
    "my_source.particle = \"neutron\"\n",
    "my_source.space = openmc.stats.Point((0, 0, 0))\n",
    "my_source.angle = openmc.stats.Isotropic()\n",
    "my_source.energy = openmc.stats.Discrete([14e6], [1])\n",
    "my_settings.source = my_source"
   ]
  },
  {
   "cell_type": "markdown",
   "metadata": {},
   "source": [
    "This next code block makes the mesh and tally\n",
    "\n",
    "Notice how a 2D mesh is achieved by creating a 3D mesh with a thickness of one mesh cell in one dimension. This will make it easier to plot later"
   ]
  },
  {
   "cell_type": "code",
   "execution_count": null,
   "metadata": {},
   "outputs": [],
   "source": [
    "\n",
    "\n",
    "# Create mesh which will be used for tally\n",
    "mesh = openmc.RegularMesh().from_domain(\n",
    "    my_geometry, # the corners of the mesh are being set automatically to surround the geometry\n",
    "    dimension=[100, 1, 100] # only 1 cell in the Y dimension\n",
    ")\n",
    "\n",
    "\n",
    "# Create mesh filter for tally\n",
    "mesh_filter = openmc.MeshFilter(mesh)\n",
    "mesh_tally = openmc.Tally(name='tallies_on_mesh')\n",
    "mesh_tally.filters = [mesh_filter]\n",
    "mesh_tally.scores = ['flux', 'absorption', '(n,2n)']  # you can have multiple scores on a single tally, this is more memory efficient that having new tallies each score\n",
    "my_tallies = openmc.Tallies([mesh_tally])"
   ]
  },
  {
   "cell_type": "markdown",
   "metadata": {},
   "source": [
    "Combining the geometry, materials, settings and tallies to create a neutronics model"
   ]
  },
  {
   "cell_type": "code",
   "execution_count": null,
   "metadata": {},
   "outputs": [],
   "source": [
    "model = openmc.model.Model(my_geometry, my_materials, my_settings, my_tallies)"
   ]
  },
  {
   "cell_type": "markdown",
   "metadata": {},
   "source": [
    "The next code block performs the simulation which tallies neutron flux on the mesh, and loads the results for inspection."
   ]
  },
  {
   "cell_type": "code",
   "execution_count": null,
   "metadata": {},
   "outputs": [],
   "source": [
    "# deletes old files\n",
    "!rm summary.h5\n",
    "!rm statepoint.*.h5\n",
    "\n",
    "# runs the simulation\n",
    "output_filename = model.run()\n",
    "\n",
    "# open the results file\n",
    "results = openmc.StatePoint(output_filename)"
   ]
  },
  {
   "cell_type": "markdown",
   "metadata": {},
   "source": [
    "This code block filters the results to show the neutron flux recorded by the mesh tally.\n",
    "\n",
    "Notice that neutrons are produced and emitted isotopically from a point source.\n",
    "\n",
    "There is a slight increase in flux within the neutron multiplier."
   ]
  },
  {
   "cell_type": "code",
   "execution_count": null,
   "metadata": {},
   "outputs": [],
   "source": [
    "# access the flux tally\n",
    "my_tally = results.get_tally(scores=['flux'])\n",
    "my_slice = my_tally.get_slice(scores=['flux'])\n",
    "my_slice.mean.shape = (mesh.dimension[0], mesh.dimension[2]) # setting the resolution to the mesh dimensions\n",
    "\n",
    "fig, ax1 = plt.subplots(figsize=(6, 4))\n",
    "\n",
    "# when plotting the 2d data, added the extent is required.\n",
    "# otherwise the plot uses the index of the 2d data arrays\n",
    "# as the x y axis\n",
    "plot_1 = ax1.imshow(X=my_slice.mean, extent=mesh.bounding_box.extent['xz'])\n",
    "\n",
    "ax2 = my_geometry.plot(\n",
    "    outline='only',\n",
    "    extent=my_geometry.bounding_box.extent['xz'],\n",
    "    axes=ax1,  # Use the same axis as ax1\n",
    "    pixels=10_000_000,  #avoids rounded corners on outline\n",
    "\n",
    ")\n",
    "ax2.set_xlim(ax1.get_xlim())\n",
    "ax2.set_ylim(ax1.get_ylim())\n",
    "ax2.set_aspect(ax1.get_aspect())  # Match aspect ratio\n",
    "\n",
    "plt.show()"
   ]
  },
  {
   "cell_type": "markdown",
   "metadata": {},
   "source": [
    "This code block filters the results to show the neutron absorption recorded by the mesh tally."
   ]
  },
  {
   "cell_type": "code",
   "execution_count": null,
   "metadata": {},
   "outputs": [],
   "source": [
    "# access the absorption tally\n",
    "my_tally = results.get_tally(scores=['absorption'])\n",
    "my_slice = my_tally.get_slice(scores=['absorption'])\n",
    "my_slice.mean.shape = (mesh.dimension[0], mesh.dimension[2])\n",
    "\n",
    "fig, ax1 = plt.subplots(figsize=(6, 4))\n",
    "\n",
    "# when plotting the 2d data, added the extent is required.\n",
    "# otherwise the plot uses the index of the 2d data arrays\n",
    "# as the x y axis\n",
    "plot_1 = ax1.imshow(X=my_slice.mean, extent=mesh.bounding_box.extent['xz'])\n",
    "\n",
    "ax2 = my_geometry.plot(\n",
    "    outline='only',\n",
    "    extent=my_geometry.bounding_box.extent['xz'],\n",
    "    axes=ax1,  # Use the same axis as ax1\n",
    "    pixels=10_000_000,  #avoids rounded corners on outline\n",
    "\n",
    ")\n",
    "ax2.set_xlim(ax1.get_xlim())\n",
    "ax2.set_ylim(ax1.get_ylim())\n",
    "ax2.set_aspect(ax1.get_aspect())  # Match aspect ratio\n",
    "\n",
    "plt.show()\n",
    "# notice that neutrons are being absorpted on the left hand side of the model"
   ]
  },
  {
   "cell_type": "code",
   "execution_count": null,
   "metadata": {},
   "outputs": [],
   "source": []
  },
  {
   "cell_type": "markdown",
   "metadata": {},
   "source": [
    "This code block filters the results to show the neutron multiplication recorded by the mesh tally.\n",
    "\n",
    "notice that neutrons are being multiplied on the right hand side of the model where the lead material is"
   ]
  },
  {
   "cell_type": "code",
   "execution_count": null,
   "metadata": {},
   "outputs": [],
   "source": [
    "# access the neutron multiplication tally\n",
    "my_tally = results.get_tally(scores=['(n,2n)'])\n",
    "my_slice = my_tally.get_slice(scores=['(n,2n)'])\n",
    "my_slice.mean.shape = (mesh.dimension[0], mesh.dimension[2])\n",
    "\n",
    "fig, ax1 = plt.subplots(figsize=(6, 4))\n",
    "\n",
    "# when plotting the 2d data, added the extent is required.\n",
    "# otherwise the plot uses the index of the 2d data arrays\n",
    "# as the x y axis\n",
    "plot_1 = ax1.imshow(X=my_slice.mean, extent=mesh.bounding_box.extent['xz'])\n",
    "\n",
    "ax2 = my_geometry.plot(\n",
    "    outline='only',\n",
    "    extent=my_geometry.bounding_box.extent['xz'],\n",
    "    axes=ax1,  # Use the same axis as ax1\n",
    "    pixels=10_000_000,  #avoids rounded corners on outline\n",
    "\n",
    ")\n",
    "ax2.set_xlim(ax1.get_xlim())\n",
    "ax2.set_ylim(ax1.get_ylim())\n",
    "ax2.set_aspect(ax1.get_aspect())  # Match aspect ratio\n",
    "\n",
    "plt.show()"
   ]
  },
  {
   "cell_type": "code",
   "execution_count": null,
   "metadata": {},
   "outputs": [],
   "source": [
    "# Bonus information\n",
    "# The 2D mesh tally is currently recording all interactions in the 3rd dimension (z).\n",
    "# The diagrams are showing the xy plane and all interactions in the z direction.\n",
    "# However one can also change the mesh to take a central slice of with a 1cm thickness in the following way.\n",
    "# The tally takes a little longer to converge as less neutrons are interacting in the tally region.\n",
    "\n",
    "# Create mesh which will be used for tally, manually setting the left and right corners, the plotting will also need adapting.\n",
    "mesh = openmc.RegularMesh()\n",
    "mesh.dimension = [100, 1, 100] # only one entry in the Y direction\n",
    "mesh.lower_left = [-200, -0.5, -200] # Y thickness is now smaller\n",
    "mesh.upper_right = [200, 0.5, 200] # Y thickness is now smaller"
   ]
  },
  {
   "cell_type": "markdown",
   "metadata": {},
   "source": [
    "**Learning Outcomes for Part 1:**\n",
    "\n",
    "- Mesh tallies can be used to visualise neutron interactions spatially throughout geometry."
   ]
  }
 ],
 "metadata": {
  "kernelspec": {
   "display_name": ".neutronicsworkshop_3.12",
   "language": "python",
   "name": "python3"
  },
  "language_info": {
   "codemirror_mode": {
    "name": "ipython",
    "version": 3
   },
   "file_extension": ".py",
   "mimetype": "text/x-python",
   "name": "python",
   "nbconvert_exporter": "python",
   "pygments_lexer": "ipython3",
   "version": "3.12.0"
  }
 },
 "nbformat": 4,
 "nbformat_minor": 4
}
